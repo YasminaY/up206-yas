{
 "cells": [
  {
   "cell_type": "markdown",
   "id": "bfa3cbde-163f-4579-9c44-6b0efeb6c4ce",
   "metadata": {},
   "source": [
    "## Week 4 assignment continued...\n",
    "\n",
    "As my Kernel kept on dying, I have decided to start a new notebook for the next set of data exploration. I have not explained the first few steps that I have also followed in the previous notebook and will start providing additional information when I do new steps. "
   ]
  },
  {
   "cell_type": "code",
   "execution_count": 1,
   "id": "3d37f86e-32b4-49fa-b7ff-b85d3d0638d8",
   "metadata": {},
   "outputs": [
    {
     "name": "stderr",
     "output_type": "stream",
     "text": [
      "/opt/conda/lib/python3.9/site-packages/geopandas/_compat.py:106: UserWarning: The Shapely GEOS version (3.9.1-CAPI-1.14.2) is incompatible with the GEOS version PyGEOS was compiled with (3.10.1-CAPI-1.16.0). Conversions between both will be slow.\n",
      "  warnings.warn(\n"
     ]
    }
   ],
   "source": [
    "# Importing all packages that will be necessary for the data exploration \n",
    "\n",
    "# Importing the pandas library \n",
    "import pandas as pd\n",
    "\n",
    "#For creating or removing a directory folder\n",
    "import os\n",
    "\n",
    "#To allow me to work with numerical data\n",
    "import numpy as np\n",
    "\n",
    "# for spatial data\n",
    "import geopandas as gpd\n",
    "\n",
    "# for plotting\n",
    "import matplotlib.pyplot as plt\n",
    "\n",
    "# for network analysis\n",
    "import networkx as nx\n",
    "\n",
    "# for street network analysis\n",
    "import osmnx as ox\n",
    "\n",
    "# for basemaps\n",
    "import contextily as ctx"
   ]
  },
  {
   "cell_type": "markdown",
   "id": "7fe4cbf7-b2b8-4127-b0df-8a469777538f",
   "metadata": {},
   "source": [
    "Note that due to the previous storage issues, I am now importing a csv file that I have already edited in excel so that only the columns I need are in this file. "
   ]
  },
  {
   "cell_type": "code",
   "execution_count": 9,
   "id": "f9eb68e2-e4b5-48e5-8d6e-e1cafa8fe2b5",
   "metadata": {},
   "outputs": [],
   "source": [
    "#Importing CSV file and packages needed for this assignment\n",
    "qol17=pd.read_csv('qols-v-2017-2018-YY Edited Week 4.csv')"
   ]
  },
  {
   "cell_type": "code",
   "execution_count": 10,
   "id": "09bf2a46-4898-4073-ae8e-8bce3459dbcf",
   "metadata": {},
   "outputs": [],
   "source": [
    "#Importing ward shapefile\n",
    "wards_shp=gpd.read_file(\"MDB_Wards_2020.shp\")"
   ]
  },
  {
   "cell_type": "code",
   "execution_count": 11,
   "id": "57deb95d-ad41-4c1c-b228-3b8664a238ac",
   "metadata": {},
   "outputs": [],
   "source": [
    "qol17=qol17.rename(columns={\"ward\":\"WardID\"})"
   ]
  },
  {
   "cell_type": "code",
   "execution_count": 12,
   "id": "a144c550-f36e-4d76-ab10-edb199c07a4f",
   "metadata": {},
   "outputs": [],
   "source": [
    "wards_shp['WardID'] = wards_shp['WardID'].astype(int)"
   ]
  },
  {
   "cell_type": "code",
   "execution_count": 13,
   "id": "afbdbf34-77b2-4cae-a706-4d72b1e4b709",
   "metadata": {},
   "outputs": [],
   "source": [
    "wards_mer = wards_shp.merge(qol17, on='WardID')"
   ]
  },
  {
   "cell_type": "markdown",
   "id": "820224bf-25fa-4674-8b37-1b570cc1d604",
   "metadata": {},
   "source": [
    "I just want to make sure that I really only have the columns that I need, so I list all the columns I intend to keep."
   ]
  },
  {
   "cell_type": "code",
   "execution_count": 16,
   "id": "d9fbf5af-551d-4f3a-be23-1ee8e473e4db",
   "metadata": {},
   "outputs": [],
   "source": [
    "#After deciding which columns to keep, I use the following command to get rid of the columns I don't need\n",
    "columns_to_keep =['FID',\n",
    " 'Province',\n",
    " 'Municipali',\n",
    " 'CAT_B',\n",
    " 'WardNo',\n",
    " 'District',\n",
    " 'DistrictCo',\n",
    " 'Date',\n",
    " 'WardID',\n",
    " 'WardLabel',\n",
    " 'Shape__Are',\n",
    " 'Shape__Len',\n",
    " 'geometry',\n",
    " 'resp_id',\n",
    " 'munic',\n",
    " 'munic_recode',\n",
    " 'region',\n",
    " 'adults_listed',\n",
    " 'males_listed',\n",
    " 'females_listed',\n",
    " 'weight',\n",
    " 'A1_Pop_group',\n",
    " 'A2_Sex',\n",
    " 'Q3_02_country',\n",
    " 'Q3_10_Retirement',\n",
    " 'Q4_03_community',\n",
    " 'Q8_06_idp',\n",
    " 'Q9_02_infl_dev',\n",
    " 'Q9_07_foreigners',\n",
    " 'Q9_10_BW_trust',\n",
    " 'Q9_12_foreigners',\n",
    " 'Q9_15_Black_opport_more',\n",
    " 'Q9_16_Violenc_LBG',\n",
    " 'Q9_20_Interracial_dating',\n",
    " 'Q12_03_day',\n",
    " 'Q12_04_night', \n",
    " 'Q15_02_age',\n",
    " 'Q15_02_age_recode',\n",
    " 'Q15_20_income']"
   ]
  },
  {
   "cell_type": "code",
   "execution_count": 17,
   "id": "45f29eed-d556-49de-923a-1adac08fd451",
   "metadata": {},
   "outputs": [],
   "source": [
    "wards_mer = wards_mer[columns_to_keep]"
   ]
  },
  {
   "cell_type": "markdown",
   "id": "83bcc99b-f90a-4ed1-87fb-2c6d0195ea72",
   "metadata": {},
   "source": [
    "Just to note here, that by now I have already used half of my memory space (497.88), eventhough I used an already pre-edited csv file. "
   ]
  },
  {
   "cell_type": "markdown",
   "id": "cb8ecf24-1ef3-4a41-a892-1aec9966d561",
   "metadata": {},
   "source": [
    "## Data Exploration\n",
    "Now that I have merged the files again and cleaned the data, I want to explore the data and create to understand more about the racial breakdown of the region. Therefore I start with exploring the variable Population Group"
   ]
  },
  {
   "cell_type": "code",
   "execution_count": 18,
   "id": "7a4022a1-43f4-48a1-bb8c-ce8bdf5e8797",
   "metadata": {},
   "outputs": [
    {
     "data": {
      "text/plain": [
       "African         19864\n",
       "White            2490\n",
       "Coloured          814\n",
       "Indian/Asian      358\n",
       "Other              80\n",
       "Name: A1_Pop_group, dtype: int64"
      ]
     },
     "execution_count": 18,
     "metadata": {},
     "output_type": "execute_result"
    }
   ],
   "source": [
    "wards_mer['A1_Pop_group'].value_counts()"
   ]
  },
  {
   "cell_type": "markdown",
   "id": "b7f1ca29-496d-4db4-9e2d-95adb196ad0a",
   "metadata": {},
   "source": [
    "I can see that the majority of people in Gauteng identify as African. I want to save this as a new dataframe, which I call race."
   ]
  },
  {
   "cell_type": "code",
   "execution_count": 20,
   "id": "5dc019fb-0f99-48c2-8c46-efe77a74d33a",
   "metadata": {},
   "outputs": [],
   "source": [
    "race = wards_mer['A1_Pop_group'].value_counts()"
   ]
  },
  {
   "cell_type": "code",
   "execution_count": 21,
   "id": "7d61bae7-455a-4fb9-8de4-e89d70f741e5",
   "metadata": {},
   "outputs": [],
   "source": [
    "race = race.reset_index()"
   ]
  },
  {
   "cell_type": "markdown",
   "id": "9086e39b-9e9c-416f-8fa4-29d93ac646e5",
   "metadata": {},
   "source": [
    "With the above command I am now able to manipulate the race dataframe"
   ]
  },
  {
   "cell_type": "code",
   "execution_count": 22,
   "id": "5028b476-641e-45d5-bb7a-30cfbae44446",
   "metadata": {},
   "outputs": [
    {
     "data": {
      "text/html": [
       "<div>\n",
       "<style scoped>\n",
       "    .dataframe tbody tr th:only-of-type {\n",
       "        vertical-align: middle;\n",
       "    }\n",
       "\n",
       "    .dataframe tbody tr th {\n",
       "        vertical-align: top;\n",
       "    }\n",
       "\n",
       "    .dataframe thead th {\n",
       "        text-align: right;\n",
       "    }\n",
       "</style>\n",
       "<table border=\"1\" class=\"dataframe\">\n",
       "  <thead>\n",
       "    <tr style=\"text-align: right;\">\n",
       "      <th></th>\n",
       "      <th>index</th>\n",
       "      <th>A1_Pop_group</th>\n",
       "    </tr>\n",
       "  </thead>\n",
       "  <tbody>\n",
       "    <tr>\n",
       "      <th>0</th>\n",
       "      <td>African</td>\n",
       "      <td>19864</td>\n",
       "    </tr>\n",
       "    <tr>\n",
       "      <th>1</th>\n",
       "      <td>White</td>\n",
       "      <td>2490</td>\n",
       "    </tr>\n",
       "    <tr>\n",
       "      <th>2</th>\n",
       "      <td>Coloured</td>\n",
       "      <td>814</td>\n",
       "    </tr>\n",
       "    <tr>\n",
       "      <th>3</th>\n",
       "      <td>Indian/Asian</td>\n",
       "      <td>358</td>\n",
       "    </tr>\n",
       "    <tr>\n",
       "      <th>4</th>\n",
       "      <td>Other</td>\n",
       "      <td>80</td>\n",
       "    </tr>\n",
       "  </tbody>\n",
       "</table>\n",
       "</div>"
      ],
      "text/plain": [
       "          index  A1_Pop_group\n",
       "0       African         19864\n",
       "1         White          2490\n",
       "2      Coloured           814\n",
       "3  Indian/Asian           358\n",
       "4         Other            80"
      ]
     },
     "execution_count": 22,
     "metadata": {},
     "output_type": "execute_result"
    }
   ],
   "source": [
    "race"
   ]
  },
  {
   "cell_type": "markdown",
   "id": "39c5b1f3-4431-49c1-857e-1fd423324474",
   "metadata": {},
   "source": [
    "I will first rename the columns, so that it is easier for me to work with and plot."
   ]
  },
  {
   "cell_type": "code",
   "execution_count": 23,
   "id": "9830e007-d17e-42c2-8616-bcc3c4fc448e",
   "metadata": {},
   "outputs": [],
   "source": [
    "race.columns = ['A1_Pop_group','Count']"
   ]
  },
  {
   "cell_type": "code",
   "execution_count": 24,
   "id": "d740ff3e-ddb9-44fd-8016-02f8a7ecb6ec",
   "metadata": {},
   "outputs": [
    {
     "data": {
      "text/html": [
       "<div>\n",
       "<style scoped>\n",
       "    .dataframe tbody tr th:only-of-type {\n",
       "        vertical-align: middle;\n",
       "    }\n",
       "\n",
       "    .dataframe tbody tr th {\n",
       "        vertical-align: top;\n",
       "    }\n",
       "\n",
       "    .dataframe thead th {\n",
       "        text-align: right;\n",
       "    }\n",
       "</style>\n",
       "<table border=\"1\" class=\"dataframe\">\n",
       "  <thead>\n",
       "    <tr style=\"text-align: right;\">\n",
       "      <th></th>\n",
       "      <th>A1_Pop_group</th>\n",
       "      <th>Count</th>\n",
       "    </tr>\n",
       "  </thead>\n",
       "  <tbody>\n",
       "    <tr>\n",
       "      <th>0</th>\n",
       "      <td>African</td>\n",
       "      <td>19864</td>\n",
       "    </tr>\n",
       "    <tr>\n",
       "      <th>1</th>\n",
       "      <td>White</td>\n",
       "      <td>2490</td>\n",
       "    </tr>\n",
       "    <tr>\n",
       "      <th>2</th>\n",
       "      <td>Coloured</td>\n",
       "      <td>814</td>\n",
       "    </tr>\n",
       "    <tr>\n",
       "      <th>3</th>\n",
       "      <td>Indian/Asian</td>\n",
       "      <td>358</td>\n",
       "    </tr>\n",
       "    <tr>\n",
       "      <th>4</th>\n",
       "      <td>Other</td>\n",
       "      <td>80</td>\n",
       "    </tr>\n",
       "  </tbody>\n",
       "</table>\n",
       "</div>"
      ],
      "text/plain": [
       "   A1_Pop_group  Count\n",
       "0       African  19864\n",
       "1         White   2490\n",
       "2      Coloured    814\n",
       "3  Indian/Asian    358\n",
       "4         Other     80"
      ]
     },
     "execution_count": 24,
     "metadata": {},
     "output_type": "execute_result"
    }
   ],
   "source": [
    "race.head()"
   ]
  },
  {
   "cell_type": "markdown",
   "id": "0b39cb91-7101-4c92-b7e2-314cbeda2a55",
   "metadata": {},
   "source": [
    "While we already know that the majority of people living in the Gauteng region identify as African, I want to see what this looks like in a pie chart. "
   ]
  },
  {
   "cell_type": "code",
   "execution_count": 26,
   "id": "52d76b83-3ffc-4bea-9c20-c7930b7e64d5",
   "metadata": {},
   "outputs": [
    {
     "data": {
      "text/plain": [
       "Text(0.5, 1.0, 'Breakdown of Population Groups in Gauteng Region')"
      ]
     },
     "execution_count": 26,
     "metadata": {},
     "output_type": "execute_result"
    },
    {
     "data": {
      "image/png": "[encoded data removed]",
      "text/plain": [
       "<Figure size 1512x576 with 1 Axes>"
      ]
     },
     "metadata": {},
     "output_type": "display_data"
    }
   ],
   "source": [
    "plt.figure(figsize=(21,8))\n",
    "ax1 = plt.subplot(121, aspect = 'equal')\n",
    "race.plot(kind='pie', y = 'Count', ax=ax1, autopct = '%1.1f%%',\n",
    "                     startangle=10,\n",
    "             shadow=False,\n",
    "             cmap='Set2',\n",
    "             labels=race['A1_Pop_group'],\n",
    "             legend=True, fontsize=9)\n",
    "plt.title(\"Breakdown of Population Groups in Gauteng Region\", fontsize = 18)"
   ]
  },
  {
   "cell_type": "markdown",
   "id": "d2832925-8b86-4c7d-a58f-43bf770bcb42",
   "metadata": {},
   "source": [
    "I can now see what the percent is of African's in the Gauteng region, which is perhaps unsurprisingly almost 85%. This is important to bear in mind when analysing our questions on how racial attitudes have changed over time in the Gauteng region, and how the new BRT has influenced the attitudes towards other racial groups. "
   ]
  },
  {
   "cell_type": "markdown",
   "id": "b75224e7-ac99-4509-a8df-8c299373aeb2",
   "metadata": {},
   "source": [
    "## Exploring the relationship between two variables. \n",
    "\n",
    "I want to explore what the relationship is between population group and attitudes towards foreigeners (Variable Q9_12_foreigners). I can do this using the cross tab function and then using the query function to basically create pie charts that tell me what the racial breakdown is of the responses to this question. I wasn't 100% sure how to do this, but my partner suggested querying wards, which I will attempt below. \n"
   ]
  },
  {
   "cell_type": "code",
   "execution_count": 30,
   "id": "c9f084b2-462c-4bc9-b71c-a98d6707a450",
   "metadata": {},
   "outputs": [],
   "source": [
    "race_2 = pd.crosstab(index=wards_mer['WardID'],\n",
    "                        columns=wards_mer['A1_Pop_group'],\n",
    "                       margins=True,\n",
    "                       margins_name='Total Number')"
   ]
  },
  {
   "cell_type": "code",
   "execution_count": 31,
   "id": "4481e9bf-a2a4-45f0-b087-77b611b8bad8",
   "metadata": {},
   "outputs": [
    {
     "data": {
      "text/html": [
       "<div>\n",
       "<style scoped>\n",
       "    .dataframe tbody tr th:only-of-type {\n",
       "        vertical-align: middle;\n",
       "    }\n",
       "\n",
       "    .dataframe tbody tr th {\n",
       "        vertical-align: top;\n",
       "    }\n",
       "\n",
       "    .dataframe thead th {\n",
       "        text-align: right;\n",
       "    }\n",
       "</style>\n",
       "<table border=\"1\" class=\"dataframe\">\n",
       "  <thead>\n",
       "    <tr style=\"text-align: right;\">\n",
       "      <th>A1_Pop_group</th>\n",
       "      <th>African</th>\n",
       "      <th>Coloured</th>\n",
       "      <th>Indian/Asian</th>\n",
       "      <th>Other</th>\n",
       "      <th>White</th>\n",
       "      <th>Total Number</th>\n",
       "    </tr>\n",
       "    <tr>\n",
       "      <th>WardID</th>\n",
       "      <th></th>\n",
       "      <th></th>\n",
       "      <th></th>\n",
       "      <th></th>\n",
       "      <th></th>\n",
       "      <th></th>\n",
       "    </tr>\n",
       "  </thead>\n",
       "  <tbody>\n",
       "    <tr>\n",
       "      <th>74201001</th>\n",
       "      <td>11</td>\n",
       "      <td>2</td>\n",
       "      <td>0</td>\n",
       "      <td>0</td>\n",
       "      <td>23</td>\n",
       "      <td>36</td>\n",
       "    </tr>\n",
       "    <tr>\n",
       "      <th>74201002</th>\n",
       "      <td>36</td>\n",
       "      <td>1</td>\n",
       "      <td>0</td>\n",
       "      <td>0</td>\n",
       "      <td>0</td>\n",
       "      <td>37</td>\n",
       "    </tr>\n",
       "    <tr>\n",
       "      <th>74201003</th>\n",
       "      <td>28</td>\n",
       "      <td>2</td>\n",
       "      <td>0</td>\n",
       "      <td>0</td>\n",
       "      <td>4</td>\n",
       "      <td>34</td>\n",
       "    </tr>\n",
       "    <tr>\n",
       "      <th>74201004</th>\n",
       "      <td>24</td>\n",
       "      <td>0</td>\n",
       "      <td>0</td>\n",
       "      <td>0</td>\n",
       "      <td>10</td>\n",
       "      <td>34</td>\n",
       "    </tr>\n",
       "    <tr>\n",
       "      <th>74201005</th>\n",
       "      <td>13</td>\n",
       "      <td>1</td>\n",
       "      <td>0</td>\n",
       "      <td>0</td>\n",
       "      <td>17</td>\n",
       "      <td>31</td>\n",
       "    </tr>\n",
       "    <tr>\n",
       "      <th>...</th>\n",
       "      <td>...</td>\n",
       "      <td>...</td>\n",
       "      <td>...</td>\n",
       "      <td>...</td>\n",
       "      <td>...</td>\n",
       "      <td>...</td>\n",
       "    </tr>\n",
       "    <tr>\n",
       "      <th>79900104</th>\n",
       "      <td>36</td>\n",
       "      <td>1</td>\n",
       "      <td>0</td>\n",
       "      <td>0</td>\n",
       "      <td>0</td>\n",
       "      <td>37</td>\n",
       "    </tr>\n",
       "    <tr>\n",
       "      <th>79900105</th>\n",
       "      <td>27</td>\n",
       "      <td>1</td>\n",
       "      <td>0</td>\n",
       "      <td>0</td>\n",
       "      <td>3</td>\n",
       "      <td>31</td>\n",
       "    </tr>\n",
       "    <tr>\n",
       "      <th>79900106</th>\n",
       "      <td>37</td>\n",
       "      <td>0</td>\n",
       "      <td>0</td>\n",
       "      <td>1</td>\n",
       "      <td>0</td>\n",
       "      <td>38</td>\n",
       "    </tr>\n",
       "    <tr>\n",
       "      <th>79900107</th>\n",
       "      <td>47</td>\n",
       "      <td>0</td>\n",
       "      <td>0</td>\n",
       "      <td>0</td>\n",
       "      <td>0</td>\n",
       "      <td>47</td>\n",
       "    </tr>\n",
       "    <tr>\n",
       "      <th>Total Number</th>\n",
       "      <td>19864</td>\n",
       "      <td>814</td>\n",
       "      <td>358</td>\n",
       "      <td>80</td>\n",
       "      <td>2490</td>\n",
       "      <td>23606</td>\n",
       "    </tr>\n",
       "  </tbody>\n",
       "</table>\n",
       "<p>495 rows × 6 columns</p>\n",
       "</div>"
      ],
      "text/plain": [
       "A1_Pop_group  African  Coloured  Indian/Asian  Other  White  Total Number\n",
       "WardID                                                                   \n",
       "74201001           11         2             0      0     23            36\n",
       "74201002           36         1             0      0      0            37\n",
       "74201003           28         2             0      0      4            34\n",
       "74201004           24         0             0      0     10            34\n",
       "74201005           13         1             0      0     17            31\n",
       "...               ...       ...           ...    ...    ...           ...\n",
       "79900104           36         1             0      0      0            37\n",
       "79900105           27         1             0      0      3            31\n",
       "79900106           37         0             0      1      0            38\n",
       "79900107           47         0             0      0      0            47\n",
       "Total Number    19864       814           358     80   2490         23606\n",
       "\n",
       "[495 rows x 6 columns]"
      ]
     },
     "execution_count": 31,
     "metadata": {},
     "output_type": "execute_result"
    }
   ],
   "source": [
    "race_2"
   ]
  },
  {
   "cell_type": "code",
   "execution_count": 52,
   "id": "a34a8200-e551-455b-b008-1f9bc51c18cd",
   "metadata": {},
   "outputs": [],
   "source": [
    "race_2_african = wards_mer.query(\"A1_Pop_group == 'African'\")"
   ]
  },
  {
   "cell_type": "code",
   "execution_count": 53,
   "id": "b8a4c1c5-e8a3-4495-88ab-cae87a505654",
   "metadata": {},
   "outputs": [
    {
     "data": {
      "text/html": [
       "<div>\n",
       "<style scoped>\n",
       "    .dataframe tbody tr th:only-of-type {\n",
       "        vertical-align: middle;\n",
       "    }\n",
       "\n",
       "    .dataframe tbody tr th {\n",
       "        vertical-align: top;\n",
       "    }\n",
       "\n",
       "    .dataframe thead th {\n",
       "        text-align: right;\n",
       "    }\n",
       "</style>\n",
       "<table border=\"1\" class=\"dataframe\">\n",
       "  <thead>\n",
       "    <tr style=\"text-align: right;\">\n",
       "      <th></th>\n",
       "      <th>FID</th>\n",
       "      <th>Province</th>\n",
       "      <th>Municipali</th>\n",
       "      <th>CAT_B</th>\n",
       "      <th>WardNo</th>\n",
       "      <th>District</th>\n",
       "      <th>DistrictCo</th>\n",
       "      <th>Date</th>\n",
       "      <th>WardID</th>\n",
       "      <th>WardLabel</th>\n",
       "      <th>...</th>\n",
       "      <th>Q9_10_BW_trust</th>\n",
       "      <th>Q9_12_foreigners</th>\n",
       "      <th>Q9_15_Black_opport_more</th>\n",
       "      <th>Q9_16_Violenc_LBG</th>\n",
       "      <th>Q9_20_Interracial_dating</th>\n",
       "      <th>Q12_03_day</th>\n",
       "      <th>Q12_04_night</th>\n",
       "      <th>Q15_02_age</th>\n",
       "      <th>Q15_02_age_recode</th>\n",
       "      <th>Q15_20_income</th>\n",
       "    </tr>\n",
       "  </thead>\n",
       "  <tbody>\n",
       "    <tr>\n",
       "      <th>0</th>\n",
       "      <td>2896</td>\n",
       "      <td>Gauteng</td>\n",
       "      <td>City of Johannesburg Metropolitan Municipality</td>\n",
       "      <td>JHB</td>\n",
       "      <td>1</td>\n",
       "      <td>City of Johannesburg</td>\n",
       "      <td>JHB</td>\n",
       "      <td>2020-11-26</td>\n",
       "      <td>79800001</td>\n",
       "      <td>JHB_1</td>\n",
       "      <td>...</td>\n",
       "      <td>Strongly agree</td>\n",
       "      <td>Foreigners are alright, but they must have le...</td>\n",
       "      <td>Strongly disagree</td>\n",
       "      <td>Strongly disagree</td>\n",
       "      <td>Agree</td>\n",
       "      <td>Bit unsafe</td>\n",
       "      <td>Very unsafe</td>\n",
       "      <td>35</td>\n",
       "      <td>35-39</td>\n",
       "      <td>R1 601 - R3 200</td>\n",
       "    </tr>\n",
       "    <tr>\n",
       "      <th>1</th>\n",
       "      <td>2896</td>\n",
       "      <td>Gauteng</td>\n",
       "      <td>City of Johannesburg Metropolitan Municipality</td>\n",
       "      <td>JHB</td>\n",
       "      <td>1</td>\n",
       "      <td>City of Johannesburg</td>\n",
       "      <td>JHB</td>\n",
       "      <td>2020-11-26</td>\n",
       "      <td>79800001</td>\n",
       "      <td>JHB_1</td>\n",
       "      <td>...</td>\n",
       "      <td>Strongly agree</td>\n",
       "      <td>Foreigners are alright, but they must have le...</td>\n",
       "      <td>Strongly disagree</td>\n",
       "      <td>Strongly disagree</td>\n",
       "      <td>Agree</td>\n",
       "      <td>Very unsafe</td>\n",
       "      <td>Very unsafe</td>\n",
       "      <td>28</td>\n",
       "      <td>25-29</td>\n",
       "      <td>R6 401 - R12 800</td>\n",
       "    </tr>\n",
       "    <tr>\n",
       "      <th>2</th>\n",
       "      <td>2896</td>\n",
       "      <td>Gauteng</td>\n",
       "      <td>City of Johannesburg Metropolitan Municipality</td>\n",
       "      <td>JHB</td>\n",
       "      <td>1</td>\n",
       "      <td>City of Johannesburg</td>\n",
       "      <td>JHB</td>\n",
       "      <td>2020-11-26</td>\n",
       "      <td>79800001</td>\n",
       "      <td>JHB_1</td>\n",
       "      <td>...</td>\n",
       "      <td>Agree</td>\n",
       "      <td>Foreigners are alright, but they must have le...</td>\n",
       "      <td>Neither agree nor disagree</td>\n",
       "      <td>Disagree</td>\n",
       "      <td>Neither agree nor disagree</td>\n",
       "      <td>Fairly safe</td>\n",
       "      <td>Bit unsafe</td>\n",
       "      <td>62</td>\n",
       "      <td>60-64</td>\n",
       "      <td>R1 601 - R3 200</td>\n",
       "    </tr>\n",
       "    <tr>\n",
       "      <th>3</th>\n",
       "      <td>2896</td>\n",
       "      <td>Gauteng</td>\n",
       "      <td>City of Johannesburg Metropolitan Municipality</td>\n",
       "      <td>JHB</td>\n",
       "      <td>1</td>\n",
       "      <td>City of Johannesburg</td>\n",
       "      <td>JHB</td>\n",
       "      <td>2020-11-26</td>\n",
       "      <td>79800001</td>\n",
       "      <td>JHB_1</td>\n",
       "      <td>...</td>\n",
       "      <td>Strongly agree</td>\n",
       "      <td>We have a lot in common with most of the fore...</td>\n",
       "      <td>Neither agree nor disagree</td>\n",
       "      <td>Strongly disagree</td>\n",
       "      <td>Agree</td>\n",
       "      <td>Neither safe nor unsafe</td>\n",
       "      <td>Very unsafe</td>\n",
       "      <td>25</td>\n",
       "      <td>25-29</td>\n",
       "      <td>R3 201 - R6 400</td>\n",
       "    </tr>\n",
       "    <tr>\n",
       "      <th>4</th>\n",
       "      <td>2896</td>\n",
       "      <td>Gauteng</td>\n",
       "      <td>City of Johannesburg Metropolitan Municipality</td>\n",
       "      <td>JHB</td>\n",
       "      <td>1</td>\n",
       "      <td>City of Johannesburg</td>\n",
       "      <td>JHB</td>\n",
       "      <td>2020-11-26</td>\n",
       "      <td>79800001</td>\n",
       "      <td>JHB_1</td>\n",
       "      <td>...</td>\n",
       "      <td>Agree</td>\n",
       "      <td>Foreigners are alright, but they must have le...</td>\n",
       "      <td>Disagree</td>\n",
       "      <td>Disagree</td>\n",
       "      <td>Disagree</td>\n",
       "      <td>Fairly safe</td>\n",
       "      <td>Fairly safe</td>\n",
       "      <td>47</td>\n",
       "      <td>45-49</td>\n",
       "      <td>Respondent refused</td>\n",
       "    </tr>\n",
       "    <tr>\n",
       "      <th>...</th>\n",
       "      <td>...</td>\n",
       "      <td>...</td>\n",
       "      <td>...</td>\n",
       "      <td>...</td>\n",
       "      <td>...</td>\n",
       "      <td>...</td>\n",
       "      <td>...</td>\n",
       "      <td>...</td>\n",
       "      <td>...</td>\n",
       "      <td>...</td>\n",
       "      <td>...</td>\n",
       "      <td>...</td>\n",
       "      <td>...</td>\n",
       "      <td>...</td>\n",
       "      <td>...</td>\n",
       "      <td>...</td>\n",
       "      <td>...</td>\n",
       "      <td>...</td>\n",
       "      <td>...</td>\n",
       "      <td>...</td>\n",
       "      <td>...</td>\n",
       "    </tr>\n",
       "    <tr>\n",
       "      <th>23601</th>\n",
       "      <td>3389</td>\n",
       "      <td>Gauteng</td>\n",
       "      <td>Mogale City Local Municipality</td>\n",
       "      <td>GT481</td>\n",
       "      <td>39</td>\n",
       "      <td>West Rand</td>\n",
       "      <td>DC48</td>\n",
       "      <td>2020-11-26</td>\n",
       "      <td>74801039</td>\n",
       "      <td>GT481_39</td>\n",
       "      <td>...</td>\n",
       "      <td>Disagree</td>\n",
       "      <td>Foreigners are alright, but they must have le...</td>\n",
       "      <td>Agree</td>\n",
       "      <td>Strongly agree</td>\n",
       "      <td>Disagree</td>\n",
       "      <td>Very safe</td>\n",
       "      <td>Fairly safe</td>\n",
       "      <td>23</td>\n",
       "      <td>20-24</td>\n",
       "      <td>R3 201 - R6 400</td>\n",
       "    </tr>\n",
       "    <tr>\n",
       "      <th>23602</th>\n",
       "      <td>3389</td>\n",
       "      <td>Gauteng</td>\n",
       "      <td>Mogale City Local Municipality</td>\n",
       "      <td>GT481</td>\n",
       "      <td>39</td>\n",
       "      <td>West Rand</td>\n",
       "      <td>DC48</td>\n",
       "      <td>2020-11-26</td>\n",
       "      <td>74801039</td>\n",
       "      <td>GT481_39</td>\n",
       "      <td>...</td>\n",
       "      <td>Agree</td>\n",
       "      <td>Gauteng is for South Africans, foreigners sho...</td>\n",
       "      <td>Strongly disagree</td>\n",
       "      <td>Disagree</td>\n",
       "      <td>Disagree</td>\n",
       "      <td>Very safe</td>\n",
       "      <td>Very safe</td>\n",
       "      <td>44</td>\n",
       "      <td>40-44</td>\n",
       "      <td>R801 - R1 600</td>\n",
       "    </tr>\n",
       "    <tr>\n",
       "      <th>23603</th>\n",
       "      <td>3389</td>\n",
       "      <td>Gauteng</td>\n",
       "      <td>Mogale City Local Municipality</td>\n",
       "      <td>GT481</td>\n",
       "      <td>39</td>\n",
       "      <td>West Rand</td>\n",
       "      <td>DC48</td>\n",
       "      <td>2020-11-26</td>\n",
       "      <td>74801039</td>\n",
       "      <td>GT481_39</td>\n",
       "      <td>...</td>\n",
       "      <td>Agree</td>\n",
       "      <td>Foreigners are alright, but they must have le...</td>\n",
       "      <td>Disagree</td>\n",
       "      <td>Strongly disagree</td>\n",
       "      <td>Strongly agree</td>\n",
       "      <td>Fairly safe</td>\n",
       "      <td>Very unsafe</td>\n",
       "      <td>26</td>\n",
       "      <td>25-29</td>\n",
       "      <td>Respondent refused</td>\n",
       "    </tr>\n",
       "    <tr>\n",
       "      <th>23604</th>\n",
       "      <td>3389</td>\n",
       "      <td>Gauteng</td>\n",
       "      <td>Mogale City Local Municipality</td>\n",
       "      <td>GT481</td>\n",
       "      <td>39</td>\n",
       "      <td>West Rand</td>\n",
       "      <td>DC48</td>\n",
       "      <td>2020-11-26</td>\n",
       "      <td>74801039</td>\n",
       "      <td>GT481_39</td>\n",
       "      <td>...</td>\n",
       "      <td>Disagree</td>\n",
       "      <td>Foreigners are alright, but they must have le...</td>\n",
       "      <td>Disagree</td>\n",
       "      <td>Disagree</td>\n",
       "      <td>Agree</td>\n",
       "      <td>Very safe</td>\n",
       "      <td>Very safe</td>\n",
       "      <td>37</td>\n",
       "      <td>35-39</td>\n",
       "      <td>R6 401 - R12 800</td>\n",
       "    </tr>\n",
       "    <tr>\n",
       "      <th>23605</th>\n",
       "      <td>3389</td>\n",
       "      <td>Gauteng</td>\n",
       "      <td>Mogale City Local Municipality</td>\n",
       "      <td>GT481</td>\n",
       "      <td>39</td>\n",
       "      <td>West Rand</td>\n",
       "      <td>DC48</td>\n",
       "      <td>2020-11-26</td>\n",
       "      <td>74801039</td>\n",
       "      <td>GT481_39</td>\n",
       "      <td>...</td>\n",
       "      <td>Disagree</td>\n",
       "      <td>Foreigners are alright, but they must have le...</td>\n",
       "      <td>Disagree</td>\n",
       "      <td>Strongly disagree</td>\n",
       "      <td>Agree</td>\n",
       "      <td>Fairly safe</td>\n",
       "      <td>Bit unsafe</td>\n",
       "      <td>43</td>\n",
       "      <td>40-44</td>\n",
       "      <td>R1 601 - R3 200</td>\n",
       "    </tr>\n",
       "  </tbody>\n",
       "</table>\n",
       "<p>19864 rows × 39 columns</p>\n",
       "</div>"
      ],
      "text/plain": [
       "        FID Province                                      Municipali  CAT_B  \\\n",
       "0      2896  Gauteng  City of Johannesburg Metropolitan Municipality    JHB   \n",
       "1      2896  Gauteng  City of Johannesburg Metropolitan Municipality    JHB   \n",
       "2      2896  Gauteng  City of Johannesburg Metropolitan Municipality    JHB   \n",
       "3      2896  Gauteng  City of Johannesburg Metropolitan Municipality    JHB   \n",
       "4      2896  Gauteng  City of Johannesburg Metropolitan Municipality    JHB   \n",
       "...     ...      ...                                             ...    ...   \n",
       "23601  3389  Gauteng                  Mogale City Local Municipality  GT481   \n",
       "23602  3389  Gauteng                  Mogale City Local Municipality  GT481   \n",
       "23603  3389  Gauteng                  Mogale City Local Municipality  GT481   \n",
       "23604  3389  Gauteng                  Mogale City Local Municipality  GT481   \n",
       "23605  3389  Gauteng                  Mogale City Local Municipality  GT481   \n",
       "\n",
       "       WardNo              District DistrictCo        Date    WardID  \\\n",
       "0           1  City of Johannesburg        JHB  2020-11-26  79800001   \n",
       "1           1  City of Johannesburg        JHB  2020-11-26  79800001   \n",
       "2           1  City of Johannesburg        JHB  2020-11-26  79800001   \n",
       "3           1  City of Johannesburg        JHB  2020-11-26  79800001   \n",
       "4           1  City of Johannesburg        JHB  2020-11-26  79800001   \n",
       "...       ...                   ...        ...         ...       ...   \n",
       "23601      39             West Rand       DC48  2020-11-26  74801039   \n",
       "23602      39             West Rand       DC48  2020-11-26  74801039   \n",
       "23603      39             West Rand       DC48  2020-11-26  74801039   \n",
       "23604      39             West Rand       DC48  2020-11-26  74801039   \n",
       "23605      39             West Rand       DC48  2020-11-26  74801039   \n",
       "\n",
       "      WardLabel  ...  Q9_10_BW_trust  \\\n",
       "0         JHB_1  ...  Strongly agree   \n",
       "1         JHB_1  ...  Strongly agree   \n",
       "2         JHB_1  ...           Agree   \n",
       "3         JHB_1  ...  Strongly agree   \n",
       "4         JHB_1  ...           Agree   \n",
       "...         ...  ...             ...   \n",
       "23601  GT481_39  ...        Disagree   \n",
       "23602  GT481_39  ...           Agree   \n",
       "23603  GT481_39  ...           Agree   \n",
       "23604  GT481_39  ...        Disagree   \n",
       "23605  GT481_39  ...        Disagree   \n",
       "\n",
       "                                        Q9_12_foreigners  \\\n",
       "0       Foreigners are alright, but they must have le...   \n",
       "1       Foreigners are alright, but they must have le...   \n",
       "2       Foreigners are alright, but they must have le...   \n",
       "3       We have a lot in common with most of the fore...   \n",
       "4       Foreigners are alright, but they must have le...   \n",
       "...                                                  ...   \n",
       "23601   Foreigners are alright, but they must have le...   \n",
       "23602   Gauteng is for South Africans, foreigners sho...   \n",
       "23603   Foreigners are alright, but they must have le...   \n",
       "23604   Foreigners are alright, but they must have le...   \n",
       "23605   Foreigners are alright, but they must have le...   \n",
       "\n",
       "          Q9_15_Black_opport_more  Q9_16_Violenc_LBG  \\\n",
       "0               Strongly disagree  Strongly disagree   \n",
       "1               Strongly disagree  Strongly disagree   \n",
       "2      Neither agree nor disagree           Disagree   \n",
       "3      Neither agree nor disagree  Strongly disagree   \n",
       "4                        Disagree           Disagree   \n",
       "...                           ...                ...   \n",
       "23601                       Agree     Strongly agree   \n",
       "23602           Strongly disagree           Disagree   \n",
       "23603                    Disagree  Strongly disagree   \n",
       "23604                    Disagree           Disagree   \n",
       "23605                    Disagree  Strongly disagree   \n",
       "\n",
       "         Q9_20_Interracial_dating               Q12_03_day Q12_04_night  \\\n",
       "0                           Agree               Bit unsafe  Very unsafe   \n",
       "1                           Agree              Very unsafe  Very unsafe   \n",
       "2      Neither agree nor disagree              Fairly safe   Bit unsafe   \n",
       "3                           Agree  Neither safe nor unsafe  Very unsafe   \n",
       "4                        Disagree              Fairly safe  Fairly safe   \n",
       "...                           ...                      ...          ...   \n",
       "23601                    Disagree                Very safe  Fairly safe   \n",
       "23602                    Disagree                Very safe    Very safe   \n",
       "23603              Strongly agree              Fairly safe  Very unsafe   \n",
       "23604                       Agree                Very safe    Very safe   \n",
       "23605                       Agree              Fairly safe   Bit unsafe   \n",
       "\n",
       "       Q15_02_age  Q15_02_age_recode       Q15_20_income  \n",
       "0              35              35-39     R1 601 - R3 200  \n",
       "1              28              25-29    R6 401 - R12 800  \n",
       "2              62              60-64     R1 601 - R3 200  \n",
       "3              25              25-29     R3 201 - R6 400  \n",
       "4              47              45-49  Respondent refused  \n",
       "...           ...                ...                 ...  \n",
       "23601          23              20-24     R3 201 - R6 400  \n",
       "23602          44              40-44       R801 - R1 600  \n",
       "23603          26              25-29  Respondent refused  \n",
       "23604          37              35-39    R6 401 - R12 800  \n",
       "23605          43              40-44     R1 601 - R3 200  \n",
       "\n",
       "[19864 rows x 39 columns]"
      ]
     },
     "execution_count": 53,
     "metadata": {},
     "output_type": "execute_result"
    }
   ],
   "source": [
    "race_2_african"
   ]
  },
  {
   "cell_type": "markdown",
   "id": "601a83a7-b5ce-41e6-ab43-ed7e19464055",
   "metadata": {},
   "source": [
    "I will do this for every race/population group"
   ]
  },
  {
   "cell_type": "code",
   "execution_count": 38,
   "id": "371ab7e7-4a20-42ce-a7e5-d4bff924852d",
   "metadata": {},
   "outputs": [],
   "source": [
    "race_2_coloured = wards_mer.query(\"A1_Pop_group == 'Coloured'\")"
   ]
  },
  {
   "cell_type": "code",
   "execution_count": 39,
   "id": "f472c8dd-41df-428d-835c-44e0fb8e2d15",
   "metadata": {},
   "outputs": [],
   "source": [
    "race_2_indas = wards_mer.query(\"A1_Pop_group == 'Indian/Asian'\")"
   ]
  },
  {
   "cell_type": "code",
   "execution_count": 40,
   "id": "87629966-cb73-4452-b9e4-c45b739d23dd",
   "metadata": {},
   "outputs": [],
   "source": [
    "race_2_other = wards_mer.query(\"A1_Pop_group == 'Other'\")"
   ]
  },
  {
   "cell_type": "code",
   "execution_count": 41,
   "id": "ce7ac6ad-3c63-44ef-b263-7029599c5977",
   "metadata": {},
   "outputs": [],
   "source": [
    "race_2_white = wards_mer.query(\"A1_Pop_group == 'White'\")"
   ]
  },
  {
   "cell_type": "markdown",
   "id": "0a185146-aad0-4668-9916-280e1f0a4b9a",
   "metadata": {},
   "source": [
    "If I understood this correctly, I have now created geodataframes for each population group so that the responses can be mapped. "
   ]
  },
  {
   "cell_type": "markdown",
   "id": "c6265ecf-2032-461e-8c48-022543e54c52",
   "metadata": {},
   "source": [
    "However, before I get into any mapping, I want to make another pie chart with the breakdown of responses per race"
   ]
  },
  {
   "cell_type": "code",
   "execution_count": 49,
   "id": "fc462d02-6391-4ae3-b76e-c2c8f761bb60",
   "metadata": {},
   "outputs": [
    {
     "data": {
      "text/html": [
       "<div>\n",
       "<style scoped>\n",
       "    .dataframe tbody tr th:only-of-type {\n",
       "        vertical-align: middle;\n",
       "    }\n",
       "\n",
       "    .dataframe tbody tr th {\n",
       "        vertical-align: top;\n",
       "    }\n",
       "\n",
       "    .dataframe thead th {\n",
       "        text-align: right;\n",
       "    }\n",
       "</style>\n",
       "<table border=\"1\" class=\"dataframe\">\n",
       "  <thead>\n",
       "    <tr style=\"text-align: right;\">\n",
       "      <th></th>\n",
       "      <th>Q9_12_foreigners</th>\n",
       "      <th>Count</th>\n",
       "    </tr>\n",
       "  </thead>\n",
       "  <tbody>\n",
       "    <tr>\n",
       "      <th>0</th>\n",
       "      <td>Foreigners are alright, but they must have le...</td>\n",
       "      <td>1869</td>\n",
       "    </tr>\n",
       "    <tr>\n",
       "      <th>1</th>\n",
       "      <td>Gauteng is for South Africans, foreigners sho...</td>\n",
       "      <td>345</td>\n",
       "    </tr>\n",
       "    <tr>\n",
       "      <th>2</th>\n",
       "      <td>We have a lot in common with most of the fore...</td>\n",
       "      <td>276</td>\n",
       "    </tr>\n",
       "  </tbody>\n",
       "</table>\n",
       "</div>"
      ],
      "text/plain": [
       "                                    Q9_12_foreigners  Count\n",
       "0   Foreigners are alright, but they must have le...   1869\n",
       "1   Gauteng is for South Africans, foreigners sho...    345\n",
       "2   We have a lot in common with most of the fore...    276"
      ]
     },
     "execution_count": 49,
     "metadata": {},
     "output_type": "execute_result"
    }
   ],
   "source": [
    "# Save this as a new dataframe so that it can be changed\n",
    "white_att_foreigners = race_2_white['Q9_12_foreigners'].value_counts()\n",
    "\n",
    "white_att_foreigners = white_att_foreigners.reset_index()\n",
    "\n",
    "# Renaming columns for clarity\n",
    "white_att_foreigners.columns = ['Q9_12_foreigners', 'Count']\n",
    "\n",
    "# viewing the responses to get an initial idea of outcome \n",
    "white_att_foreigners"
   ]
  },
  {
   "cell_type": "markdown",
   "id": "45794287-5e08-4422-b09c-77b27b663d27",
   "metadata": {},
   "source": [
    "This shows me that most white people responded saying: \"Foreigners are alirght, but they must have legal permission to stay from the government\". The second most common response was \"Gauteng is for South Africans, foreigners should go back home\". The least common answer was that \"We have a lot in common with most of the foreigners, they must  be allowed to stay\". \n",
    "\n",
    "I now want to explore this for other population groups."
   ]
  },
  {
   "cell_type": "code",
   "execution_count": 54,
   "id": "feec6f6c-0d75-4210-9384-c274dce7a4f4",
   "metadata": {},
   "outputs": [
    {
     "data": {
      "text/html": [
       "<div>\n",
       "<style scoped>\n",
       "    .dataframe tbody tr th:only-of-type {\n",
       "        vertical-align: middle;\n",
       "    }\n",
       "\n",
       "    .dataframe tbody tr th {\n",
       "        vertical-align: top;\n",
       "    }\n",
       "\n",
       "    .dataframe thead th {\n",
       "        text-align: right;\n",
       "    }\n",
       "</style>\n",
       "<table border=\"1\" class=\"dataframe\">\n",
       "  <thead>\n",
       "    <tr style=\"text-align: right;\">\n",
       "      <th></th>\n",
       "      <th>Q9_12_foreigners</th>\n",
       "      <th>Count</th>\n",
       "    </tr>\n",
       "  </thead>\n",
       "  <tbody>\n",
       "    <tr>\n",
       "      <th>0</th>\n",
       "      <td>Foreigners are alright, but they must have le...</td>\n",
       "      <td>13058</td>\n",
       "    </tr>\n",
       "    <tr>\n",
       "      <th>1</th>\n",
       "      <td>Gauteng is for South Africans, foreigners sho...</td>\n",
       "      <td>3424</td>\n",
       "    </tr>\n",
       "    <tr>\n",
       "      <th>2</th>\n",
       "      <td>We have a lot in common with most of the fore...</td>\n",
       "      <td>3382</td>\n",
       "    </tr>\n",
       "  </tbody>\n",
       "</table>\n",
       "</div>"
      ],
      "text/plain": [
       "                                    Q9_12_foreigners  Count\n",
       "0   Foreigners are alright, but they must have le...  13058\n",
       "1   Gauteng is for South Africans, foreigners sho...   3424\n",
       "2   We have a lot in common with most of the fore...   3382"
      ]
     },
     "execution_count": 54,
     "metadata": {},
     "output_type": "execute_result"
    }
   ],
   "source": [
    "# Save this as a new dataframe so that it can be changed\n",
    "african_att_foreigners = race_2_african['Q9_12_foreigners'].value_counts()\n",
    "\n",
    "african_att_foreigners = african_att_foreigners.reset_index()\n",
    "\n",
    "# Renaming columns for clarity\n",
    "african_att_foreigners.columns = ['Q9_12_foreigners', 'Count']\n",
    "\n",
    "# viewing the responses to get an initial idea of outcome \n",
    "african_att_foreigners"
   ]
  },
  {
   "cell_type": "raw",
   "id": "5d8338a2-36ad-4326-87d1-4e9c14b2066a",
   "metadata": {},
   "source": [
    "For Africans we have the same breakdown in responess as for whites"
   ]
  },
  {
   "cell_type": "code",
   "execution_count": 55,
   "id": "00798eb1-58f4-4feb-9bf7-0f697507a01d",
   "metadata": {},
   "outputs": [
    {
     "data": {
      "text/html": [
       "<div>\n",
       "<style scoped>\n",
       "    .dataframe tbody tr th:only-of-type {\n",
       "        vertical-align: middle;\n",
       "    }\n",
       "\n",
       "    .dataframe tbody tr th {\n",
       "        vertical-align: top;\n",
       "    }\n",
       "\n",
       "    .dataframe thead th {\n",
       "        text-align: right;\n",
       "    }\n",
       "</style>\n",
       "<table border=\"1\" class=\"dataframe\">\n",
       "  <thead>\n",
       "    <tr style=\"text-align: right;\">\n",
       "      <th></th>\n",
       "      <th>Q9_12_foreigners</th>\n",
       "      <th>Count</th>\n",
       "    </tr>\n",
       "  </thead>\n",
       "  <tbody>\n",
       "    <tr>\n",
       "      <th>0</th>\n",
       "      <td>Foreigners are alright, but they must have le...</td>\n",
       "      <td>47</td>\n",
       "    </tr>\n",
       "    <tr>\n",
       "      <th>1</th>\n",
       "      <td>We have a lot in common with most of the fore...</td>\n",
       "      <td>32</td>\n",
       "    </tr>\n",
       "    <tr>\n",
       "      <th>2</th>\n",
       "      <td>Gauteng is for South Africans, foreigners sho...</td>\n",
       "      <td>1</td>\n",
       "    </tr>\n",
       "  </tbody>\n",
       "</table>\n",
       "</div>"
      ],
      "text/plain": [
       "                                    Q9_12_foreigners  Count\n",
       "0   Foreigners are alright, but they must have le...     47\n",
       "1   We have a lot in common with most of the fore...     32\n",
       "2   Gauteng is for South Africans, foreigners sho...      1"
      ]
     },
     "execution_count": 55,
     "metadata": {},
     "output_type": "execute_result"
    }
   ],
   "source": [
    "# Save this as a new dataframe so that it can be changed\n",
    "other_att_foreigners = race_2_other['Q9_12_foreigners'].value_counts()\n",
    "\n",
    "other_att_foreigners = other_att_foreigners.reset_index()\n",
    "\n",
    "# Renaming columns for clarity\n",
    "other_att_foreigners.columns = ['Q9_12_foreigners', 'Count']\n",
    "\n",
    "# viewing the responses to get an initial idea of outcome \n",
    "other_att_foreigners"
   ]
  },
  {
   "cell_type": "markdown",
   "id": "1d43c6a2-2e36-4436-9f6e-567e9ecf410c",
   "metadata": {},
   "source": [
    "Interestingly in the other category, more people said that \"We have a lot in common with most of the foreigners, they must  be allowed to stay\". "
   ]
  },
  {
   "cell_type": "code",
   "execution_count": 56,
   "id": "cc0e4bfc-3a0f-4269-9ae3-320e7fcf2db2",
   "metadata": {},
   "outputs": [
    {
     "data": {
      "text/html": [
       "<div>\n",
       "<style scoped>\n",
       "    .dataframe tbody tr th:only-of-type {\n",
       "        vertical-align: middle;\n",
       "    }\n",
       "\n",
       "    .dataframe tbody tr th {\n",
       "        vertical-align: top;\n",
       "    }\n",
       "\n",
       "    .dataframe thead th {\n",
       "        text-align: right;\n",
       "    }\n",
       "</style>\n",
       "<table border=\"1\" class=\"dataframe\">\n",
       "  <thead>\n",
       "    <tr style=\"text-align: right;\">\n",
       "      <th></th>\n",
       "      <th>Q9_12_foreigners</th>\n",
       "      <th>Count</th>\n",
       "    </tr>\n",
       "  </thead>\n",
       "  <tbody>\n",
       "    <tr>\n",
       "      <th>0</th>\n",
       "      <td>Foreigners are alright, but they must have le...</td>\n",
       "      <td>551</td>\n",
       "    </tr>\n",
       "    <tr>\n",
       "      <th>1</th>\n",
       "      <td>Gauteng is for South Africans, foreigners sho...</td>\n",
       "      <td>142</td>\n",
       "    </tr>\n",
       "    <tr>\n",
       "      <th>2</th>\n",
       "      <td>We have a lot in common with most of the fore...</td>\n",
       "      <td>121</td>\n",
       "    </tr>\n",
       "  </tbody>\n",
       "</table>\n",
       "</div>"
      ],
      "text/plain": [
       "                                    Q9_12_foreigners  Count\n",
       "0   Foreigners are alright, but they must have le...    551\n",
       "1   Gauteng is for South Africans, foreigners sho...    142\n",
       "2   We have a lot in common with most of the fore...    121"
      ]
     },
     "execution_count": 56,
     "metadata": {},
     "output_type": "execute_result"
    }
   ],
   "source": [
    "# Save this as a new dataframe so that it can be changed\n",
    "coloured_att_foreigners = race_2_coloured['Q9_12_foreigners'].value_counts()\n",
    "\n",
    "coloured_att_foreigners = coloured_att_foreigners.reset_index()\n",
    "\n",
    "# Renaming columns for clarity\n",
    "coloured_att_foreigners.columns = ['Q9_12_foreigners', 'Count']\n",
    "\n",
    "# viewing the responses to get an initial idea of outcome \n",
    "coloured_att_foreigners"
   ]
  },
  {
   "cell_type": "markdown",
   "id": "181752db-2d9d-4787-b8f0-c1c5fde7ccda",
   "metadata": {},
   "source": [
    "Here again we have almost the same breakdown as the responses for africans and whites"
   ]
  },
  {
   "cell_type": "code",
   "execution_count": 58,
   "id": "964390ae-3822-4047-8729-f0cadc1e02ff",
   "metadata": {},
   "outputs": [
    {
     "data": {
      "text/html": [
       "<div>\n",
       "<style scoped>\n",
       "    .dataframe tbody tr th:only-of-type {\n",
       "        vertical-align: middle;\n",
       "    }\n",
       "\n",
       "    .dataframe tbody tr th {\n",
       "        vertical-align: top;\n",
       "    }\n",
       "\n",
       "    .dataframe thead th {\n",
       "        text-align: right;\n",
       "    }\n",
       "</style>\n",
       "<table border=\"1\" class=\"dataframe\">\n",
       "  <thead>\n",
       "    <tr style=\"text-align: right;\">\n",
       "      <th></th>\n",
       "      <th>Q9_12_foreigners</th>\n",
       "      <th>Count</th>\n",
       "    </tr>\n",
       "  </thead>\n",
       "  <tbody>\n",
       "    <tr>\n",
       "      <th>0</th>\n",
       "      <td>Foreigners are alright, but they must have le...</td>\n",
       "      <td>260</td>\n",
       "    </tr>\n",
       "    <tr>\n",
       "      <th>1</th>\n",
       "      <td>We have a lot in common with most of the fore...</td>\n",
       "      <td>60</td>\n",
       "    </tr>\n",
       "    <tr>\n",
       "      <th>2</th>\n",
       "      <td>Gauteng is for South Africans, foreigners sho...</td>\n",
       "      <td>38</td>\n",
       "    </tr>\n",
       "  </tbody>\n",
       "</table>\n",
       "</div>"
      ],
      "text/plain": [
       "                                    Q9_12_foreigners  Count\n",
       "0   Foreigners are alright, but they must have le...    260\n",
       "1   We have a lot in common with most of the fore...     60\n",
       "2   Gauteng is for South Africans, foreigners sho...     38"
      ]
     },
     "execution_count": 58,
     "metadata": {},
     "output_type": "execute_result"
    }
   ],
   "source": [
    "# Save this as a new dataframe so that it can be changed\n",
    "indas_att_foreigners = race_2_indas['Q9_12_foreigners'].value_counts()\n",
    "\n",
    "indas_att_foreigners = indas_att_foreigners.reset_index()\n",
    "\n",
    "# Renaming columns for clarity\n",
    "indas_att_foreigners.columns = ['Q9_12_foreigners', 'Count']\n",
    "\n",
    "# viewing the responses to get an initial idea of outcome \n",
    "indas_att_foreigners"
   ]
  },
  {
   "cell_type": "markdown",
   "id": "b552e217-ddd0-4055-9a43-2c2b2cec6db2",
   "metadata": {},
   "source": [
    "Interestingly here we have similar responses as the other population group "
   ]
  },
  {
   "cell_type": "markdown",
   "id": "b8df3a68-1fee-4d98-99be-c07aaf35bc5e",
   "metadata": {},
   "source": [
    "## Now let's map this in a bar chart"
   ]
  },
  {
   "cell_type": "code",
   "execution_count": 66,
   "id": "9aad316d-148d-452a-947a-dc2011c0629d",
   "metadata": {},
   "outputs": [
    {
     "data": {
      "text/plain": [
       "Text(0.5, 1.0, 'Attitudes towards foreigners - African')"
      ]
     },
     "execution_count": 66,
     "metadata": {},
     "output_type": "execute_result"
    },
    {
     "data": {
      "text/plain": [
       "<Figure size 432x288 with 0 Axes>"
      ]
     },
     "metadata": {},
     "output_type": "display_data"
    },
    {
     "data": {
      "image/png": "[encoded data removed]",
      "text/plain": [
       "<Figure size 1008x864 with 2 Axes>"
      ]
     },
     "metadata": {},
     "output_type": "display_data"
    }
   ],
   "source": [
    "plt.figure(0)\n",
    "\n",
    "\n",
    "# create the 1x2 subplots\n",
    "# set sharex and sharey to true to scale each map equally\n",
    "fig, axs = plt.subplots(1, 2, figsize=(14, 12), sharex=True, sharey=True)\n",
    "\n",
    "# name each subplot\n",
    "ax1, ax2 = axs\n",
    "\n",
    "white_att_foreigners.plot(kind='pie',y = 'Count', ax=ax1, autopct = '%1.1f%%',\n",
    "                     startangle=10,\n",
    "             shadow=False,\n",
    "             cmap='Set2',\n",
    "             labels=white_att_foreigners['Q9_12_foreigners'],\n",
    "             legend=False, fontsize=9)\n",
    "ax1.set_title(\"Attitudes towards foreigners - White\", fontsize = 18)\n",
    "\n",
    "african_att_foreigners.plot(kind='pie',y = 'Count', ax=ax2, autopct = '%1.1f%%',\n",
    "                     startangle=0,\n",
    "             shadow=False,\n",
    "             cmap='Set2',\n",
    "             labels= african_att_foreigners['Q9_12_foreigners'],\n",
    "             legend=False, fontsize=9)\n",
    "ax2.set_title(\"Attitudes towards foreigners - African\", fontsize = 18)\n"
   ]
  },
  {
   "cell_type": "code",
   "execution_count": 67,
   "id": "2ac7d59a-0c1d-431e-a5f9-a4aef6812f61",
   "metadata": {},
   "outputs": [
    {
     "data": {
      "text/plain": [
       "Text(0.5, 1.0, 'Attitudes towards foreigners - Other')"
      ]
     },
     "execution_count": 67,
     "metadata": {},
     "output_type": "execute_result"
    },
    {
     "data": {
      "text/plain": [
       "<Figure size 432x288 with 0 Axes>"
      ]
     },
     "metadata": {},
     "output_type": "display_data"
    },
    {
     "data": {
      "image/png": "[encoded data removed]",
      "text/plain": [
       "<Figure size 1008x864 with 2 Axes>"
      ]
     },
     "metadata": {},
     "output_type": "display_data"
    }
   ],
   "source": [
    "plt.figure(0)\n",
    "\n",
    "\n",
    "# create the 1x2 subplots\n",
    "# set sharex and sharey to true to scale each map equally\n",
    "fig, axs = plt.subplots(1, 2, figsize=(14, 12), sharex=True, sharey=True)\n",
    "\n",
    "# name each subplot\n",
    "ax1, ax2 = axs\n",
    "\n",
    "coloured_att_foreigners.plot(kind='pie',y = 'Count', ax=ax1, autopct = '%1.1f%%',\n",
    "                     startangle=10,\n",
    "             shadow=False,\n",
    "             cmap='Set2',\n",
    "             labels=coloured_att_foreigners['Q9_12_foreigners'],\n",
    "             legend=False, fontsize=9)\n",
    "ax1.set_title(\"Attitudes towards foreigners - Coloured\", fontsize = 18)\n",
    "\n",
    "other_att_foreigners.plot(kind='pie',y = 'Count', ax=ax2, autopct = '%1.1f%%',\n",
    "                     startangle=0,\n",
    "             shadow=False,\n",
    "             cmap='Set2',\n",
    "             labels= other_att_foreigners['Q9_12_foreigners'],\n",
    "             legend=False, fontsize=9)\n",
    "ax2.set_title(\"Attitudes towards foreigners - Other\", fontsize = 18)\n",
    "\n"
   ]
  },
  {
   "cell_type": "code",
   "execution_count": 68,
   "id": "dba2b57f-1ba9-4c0e-a62d-b8736d228ea9",
   "metadata": {},
   "outputs": [
    {
     "data": {
      "text/plain": [
       "Text(0.5, 1.0, 'Attitudes towards foreigners - Indian Asian')"
      ]
     },
     "execution_count": 68,
     "metadata": {},
     "output_type": "execute_result"
    },
    {
     "data": {
      "image/png": "[encoded data removed]",
      "text/plain": [
       "<Figure size 1008x864 with 1 Axes>"
      ]
     },
     "metadata": {},
     "output_type": "display_data"
    }
   ],
   "source": [
    "plt.figure(figsize=(14,12))\n",
    "ax1 = plt.subplot(121, aspect = 'equal')\n",
    "indas_att_foreigners.plot(kind='pie', y = 'Count', ax=ax1, autopct = '%1.1f%%',\n",
    "                     startangle=10,\n",
    "             shadow=False,\n",
    "             cmap='Set2',\n",
    "             labels=indas_att_foreigners['Q9_12_foreigners'],\n",
    "             legend=False, fontsize=8)\n",
    "plt.title(\"Attitudes towards foreigners - Indian Asian\", fontsize = 18)"
   ]
  },
  {
   "cell_type": "markdown",
   "id": "389cd1e9-8aaa-49f4-bf94-77d4888b0f20",
   "metadata": {},
   "source": [
    "I think from this we can conclude that the majority of respondents think that foreigners need to have legal rights to be in the country and have more negative views on informal workers. "
   ]
  },
  {
   "cell_type": "markdown",
   "id": "144c5e45-1bd0-4aa3-9a51-7a3fc8aa4840",
   "metadata": {},
   "source": [
    "## Mapping violence towards foreigners\n",
    "\n",
    "Now I want to have a look at the variable on whether it is acceptable to be violent towards foreigners and map this. However, I am running into issues mapping this which I am not sure how to solve. I used the same code as I did for my other map, however there seems to be no values. \n"
   ]
  },
  {
   "cell_type": "code",
   "execution_count": 91,
   "id": "c4298112-b7a6-43f8-8f6c-a21d59c2d0fc",
   "metadata": {},
   "outputs": [],
   "source": [
    "violence_foreigners = wards_mer['Q9_07_foreigners'].value_counts()"
   ]
  },
  {
   "cell_type": "code",
   "execution_count": 92,
   "id": "a42e8af2-856b-4d1c-9418-1cc7a9a537d2",
   "metadata": {},
   "outputs": [
    {
     "data": {
      "text/plain": [
       "Series([], Name: Q9_07_foreigners, dtype: int64)"
      ]
     },
     "execution_count": 92,
     "metadata": {},
     "output_type": "execute_result"
    }
   ],
   "source": [
    "violence_foreigners"
   ]
  },
  {
   "cell_type": "code",
   "execution_count": 89,
   "id": "4188b853-5eeb-4a57-a6c4-e2c06e5c16e3",
   "metadata": {},
   "outputs": [
    {
     "data": {
      "text/html": [
       "<div>\n",
       "<style scoped>\n",
       "    .dataframe tbody tr th:only-of-type {\n",
       "        vertical-align: middle;\n",
       "    }\n",
       "\n",
       "    .dataframe tbody tr th {\n",
       "        vertical-align: top;\n",
       "    }\n",
       "\n",
       "    .dataframe thead th {\n",
       "        text-align: right;\n",
       "    }\n",
       "</style>\n",
       "<table border=\"1\" class=\"dataframe\">\n",
       "  <thead>\n",
       "    <tr style=\"text-align: right;\">\n",
       "      <th></th>\n",
       "      <th>Q9_07_foreigners</th>\n",
       "      <th>violence_foreigners</th>\n",
       "    </tr>\n",
       "  </thead>\n",
       "  <tbody>\n",
       "    <tr>\n",
       "      <th>0</th>\n",
       "      <td>NaN</td>\n",
       "      <td>NaN</td>\n",
       "    </tr>\n",
       "    <tr>\n",
       "      <th>1</th>\n",
       "      <td>NaN</td>\n",
       "      <td>NaN</td>\n",
       "    </tr>\n",
       "    <tr>\n",
       "      <th>2</th>\n",
       "      <td>NaN</td>\n",
       "      <td>NaN</td>\n",
       "    </tr>\n",
       "    <tr>\n",
       "      <th>3</th>\n",
       "      <td>NaN</td>\n",
       "      <td>NaN</td>\n",
       "    </tr>\n",
       "    <tr>\n",
       "      <th>4</th>\n",
       "      <td>NaN</td>\n",
       "      <td>NaN</td>\n",
       "    </tr>\n",
       "    <tr>\n",
       "      <th>...</th>\n",
       "      <td>...</td>\n",
       "      <td>...</td>\n",
       "    </tr>\n",
       "    <tr>\n",
       "      <th>23601</th>\n",
       "      <td>NaN</td>\n",
       "      <td>NaN</td>\n",
       "    </tr>\n",
       "    <tr>\n",
       "      <th>23602</th>\n",
       "      <td>NaN</td>\n",
       "      <td>NaN</td>\n",
       "    </tr>\n",
       "    <tr>\n",
       "      <th>23603</th>\n",
       "      <td>NaN</td>\n",
       "      <td>NaN</td>\n",
       "    </tr>\n",
       "    <tr>\n",
       "      <th>23604</th>\n",
       "      <td>NaN</td>\n",
       "      <td>NaN</td>\n",
       "    </tr>\n",
       "    <tr>\n",
       "      <th>23605</th>\n",
       "      <td>NaN</td>\n",
       "      <td>NaN</td>\n",
       "    </tr>\n",
       "  </tbody>\n",
       "</table>\n",
       "<p>23606 rows × 2 columns</p>\n",
       "</div>"
      ],
      "text/plain": [
       "       Q9_07_foreigners  violence_foreigners\n",
       "0                   NaN                  NaN\n",
       "1                   NaN                  NaN\n",
       "2                   NaN                  NaN\n",
       "3                   NaN                  NaN\n",
       "4                   NaN                  NaN\n",
       "...                 ...                  ...\n",
       "23601               NaN                  NaN\n",
       "23602               NaN                  NaN\n",
       "23603               NaN                  NaN\n",
       "23604               NaN                  NaN\n",
       "23605               NaN                  NaN\n",
       "\n",
       "[23606 rows x 2 columns]"
      ]
     },
     "execution_count": 89,
     "metadata": {},
     "output_type": "execute_result"
    }
   ],
   "source": [
    "wards_mer.loc[wards_mer['Q9_07_foreigners']=='Strongly disagree','violence_foreigners']=0\n",
    "wards_mer.loc[wards_mer['Q9_07_foreigners']=='Disagree','violence_foreigners']=1\n",
    "wards_mer.loc[wards_mer['Q9_07_foreigners']=='Neither agree nor disagree','violence_foreigners']=2\n",
    "wards_mer.loc[wards_mer['Q9_07_foreigners']=='Agree','violence_foreigners']=3\n",
    "wards_mer.loc[wards_mer['Q9_07_foreigners']=='Strongly agree','violence_foreigners']=4\n",
    "wards_mer [['Q9_07_foreigners','violence_foreigners']]"
   ]
  },
  {
   "cell_type": "markdown",
   "id": "0e3af51d-fcfc-429b-ba02-ac4362e1c092",
   "metadata": {},
   "source": [
    "I am not entirely sure what I am doing wrong here, and will have to check in office hours how I might be able to solve this to carry on with the mapping part of the assignment. Unfortunately, I still have a little bit of work to do to make the mapping functions work, however I was able to explore more of the data and gain a much better understanding of how the codes worked. I was also able to practice some of the coding we learnt in the previous weeks. "
   ]
  }
 ],
 "metadata": {
  "kernelspec": {
   "display_name": "Python 3 (ipykernel)",
   "language": "python",
   "name": "python3"
  },
  "language_info": {
   "codemirror_mode": {
    "name": "ipython",
    "version": 3
   },
   "file_extension": ".py",
   "mimetype": "text/x-python",
   "name": "python",
   "nbconvert_exporter": "python",
   "pygments_lexer": "ipython3",
   "version": "3.9.6"
  }
 },
 "nbformat": 4,
 "nbformat_minor": 5
}
