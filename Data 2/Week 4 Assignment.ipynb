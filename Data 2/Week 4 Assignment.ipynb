{
 "cells": [
  {
   "cell_type": "markdown",
   "id": "61faa90c-a5af-46e5-a583-e7b66fc9c0ea",
   "metadata": {
    "tags": []
   },
   "source": [
    "## Week 4 Assignment - Part 1\n",
    " This week I will review the work I have done so far, in particular:\n",
    " 1) Joining of the csv and shapefile \n",
    " 2) Doing Data Exploration with the following on socio-demographic variables and attitudes towards race/population groups\n",
    " \n",
    " In terms of outputs, I will aim to reproduce what I have done in previous weeks and also analyse additional variables that are of interest to our study.  \n"
   ]
  },
  {
   "cell_type": "code",
   "execution_count": 1,
   "id": "ee35043f-a392-4c72-8fbd-52e77b0f7a3e",
   "metadata": {},
   "outputs": [
    {
     "name": "stderr",
     "output_type": "stream",
     "text": [
      "/opt/conda/lib/python3.9/site-packages/geopandas/_compat.py:106: UserWarning: The Shapely GEOS version (3.9.1-CAPI-1.14.2) is incompatible with the GEOS version PyGEOS was compiled with (3.10.1-CAPI-1.16.0). Conversions between both will be slow.\n",
      "  warnings.warn(\n"
     ]
    }
   ],
   "source": [
    "# Importing all packages that will be necessary for the data exploration \n",
    "\n",
    "# Importing the pandas library \n",
    "import pandas as pd\n",
    "\n",
    "#For creating or removing a directory folder\n",
    "import os\n",
    "\n",
    "#To allow me to work with numerical data\n",
    "import numpy as np\n",
    "\n",
    "# for spatial data\n",
    "import geopandas as gpd\n",
    "\n",
    "# for plotting\n",
    "import matplotlib.pyplot as plt\n",
    "\n",
    "# for network analysis\n",
    "import networkx as nx\n",
    "\n",
    "# for street network analysis\n",
    "import osmnx as ox\n",
    "\n",
    "# for basemaps\n",
    "import contextily as ctx"
   ]
  },
  {
   "cell_type": "markdown",
   "id": "87a349f0-4063-4340-92e6-93a975f9779b",
   "metadata": {},
   "source": [
    "Importing CSV file and packages needed for this assignment\n"
   ]
  },
  {
   "cell_type": "code",
   "execution_count": null,
   "id": "4fc5b916-c6ed-4dea-8cfc-8fc27bbaae6e",
   "metadata": {},
   "outputs": [],
   "source": [
    "qol17=pd.read_csv('qols-v-2017-2018-v1.1.csv')"
   ]
  },
  {
   "cell_type": "markdown",
   "id": "6ef6cffc-4023-415f-98c7-7b5a91e778b7",
   "metadata": {},
   "source": [
    "Importing ward shapefile\n"
   ]
  },
  {
   "cell_type": "code",
   "execution_count": null,
   "id": "78975464-c8e9-4a2c-88f3-9c14b0c14666",
   "metadata": {},
   "outputs": [],
   "source": [
    "wards_shp=gpd.read_file(\"MDB_Wards_2020.shp\")"
   ]
  },
  {
   "cell_type": "markdown",
   "id": "f7a626a2-f1b8-4903-82a6-bb81333ff6de",
   "metadata": {},
   "source": [
    "Renaming the wards and WardID column, so that the files can be joined. The head command allows us to see whether the renaming was successful\n",
    "\n"
   ]
  },
  {
   "cell_type": "code",
   "execution_count": null,
   "id": "487ace61-46c0-4226-9353-6dfb62e5c18a",
   "metadata": {},
   "outputs": [],
   "source": [
    "qol17=qol17.rename(columns={\"ward\":\"WardID\"})\n",
    "\n",
    "qol17.head(3)"
   ]
  },
  {
   "cell_type": "markdown",
   "id": "5f7f9dd6-0a09-456b-a6b2-a7e79008acf5",
   "metadata": {},
   "source": [
    "Before joining, it is useful to check whether the data types for the csv and the shapefile are the same, as I otherwise won't be able to join them. \n"
   ]
  },
  {
   "cell_type": "code",
   "execution_count": null,
   "id": "2f9b7593-8ebd-4c36-944f-6af94f036406",
   "metadata": {},
   "outputs": [],
   "source": [
    "qol17.dtypes"
   ]
  },
  {
   "cell_type": "code",
   "execution_count": 6,
   "id": "2e6eb61a-43be-45db-8db8-fd8437816aad",
   "metadata": {},
   "outputs": [
    {
     "data": {
      "text/plain": [
       "FID              int64\n",
       "Province        object\n",
       "Municipali      object\n",
       "CAT_B           object\n",
       "WardNo           int64\n",
       "District        object\n",
       "DistrictCo      object\n",
       "Date            object\n",
       "WardID          object\n",
       "WardLabel       object\n",
       "Shape__Are     float64\n",
       "Shape__Len     float64\n",
       "geometry      geometry\n",
       "dtype: object"
      ]
     },
     "execution_count": 6,
     "metadata": {},
     "output_type": "execute_result"
    }
   ],
   "source": [
    "wards_shp.dtypes"
   ]
  },
  {
   "cell_type": "markdown",
   "id": "06be0276-2a26-454f-900f-562914f8d581",
   "metadata": {},
   "source": [
    "We can see that the WardID is a int64 for the qol17 file and an object for the wards shapefile. In order for them to be the same, I will convert both to int64 and use the dtypes command to see wether that was successful."
   ]
  },
  {
   "cell_type": "code",
   "execution_count": null,
   "id": "0717e102-d940-4c84-878e-58a2d54c01a8",
   "metadata": {},
   "outputs": [],
   "source": [
    "wards_shp['WardID'] = wards_shp['WardID'].astype(int)\n",
    "\n",
    "wards_shp.dtypes"
   ]
  },
  {
   "cell_type": "markdown",
   "id": "1cbcfb19-d8f4-4ea9-84f8-27f30871b836",
   "metadata": {},
   "source": [
    "Now to the joining/merge of the shapefile and the csv, which I am renaming to call wards_merg. I will view this again with the head command\n"
   ]
  },
  {
   "cell_type": "code",
   "execution_count": null,
   "id": "d3c9a20f-f16e-42ca-8ffe-105d6a2cd76d",
   "metadata": {},
   "outputs": [],
   "source": [
    "wards_mer = wards_shp.merge(qol17, on='WardID')"
   ]
  },
  {
   "cell_type": "code",
   "execution_count": 9,
   "id": "105a19f3-0ece-4490-9c44-c53c56a2d5ec",
   "metadata": {},
   "outputs": [
    {
     "data": {
      "text/html": [
       "<div>\n",
       "<style scoped>\n",
       "    .dataframe tbody tr th:only-of-type {\n",
       "        vertical-align: middle;\n",
       "    }\n",
       "\n",
       "    .dataframe tbody tr th {\n",
       "        vertical-align: top;\n",
       "    }\n",
       "\n",
       "    .dataframe thead th {\n",
       "        text-align: right;\n",
       "    }\n",
       "</style>\n",
       "<table border=\"1\" class=\"dataframe\">\n",
       "  <thead>\n",
       "    <tr style=\"text-align: right;\">\n",
       "      <th></th>\n",
       "      <th>FID</th>\n",
       "      <th>Province</th>\n",
       "      <th>Municipali</th>\n",
       "      <th>CAT_B</th>\n",
       "      <th>WardNo</th>\n",
       "      <th>District</th>\n",
       "      <th>DistrictCo</th>\n",
       "      <th>Date</th>\n",
       "      <th>WardID</th>\n",
       "      <th>WardLabel</th>\n",
       "      <th>...</th>\n",
       "      <th>Q17_02_5</th>\n",
       "      <th>Q17_02_6</th>\n",
       "      <th>Q17_02_7</th>\n",
       "      <th>Q17_02_8</th>\n",
       "      <th>Q17_02_9</th>\n",
       "      <th>Q17_02_10</th>\n",
       "      <th>Q17_02_11</th>\n",
       "      <th>Q17_02_12</th>\n",
       "      <th>Q17_02_13</th>\n",
       "      <th>Q17_02_14</th>\n",
       "    </tr>\n",
       "  </thead>\n",
       "  <tbody>\n",
       "    <tr>\n",
       "      <th>0</th>\n",
       "      <td>2896</td>\n",
       "      <td>Gauteng</td>\n",
       "      <td>City of Johannesburg Metropolitan Municipality</td>\n",
       "      <td>JHB</td>\n",
       "      <td>1</td>\n",
       "      <td>City of Johannesburg</td>\n",
       "      <td>JHB</td>\n",
       "      <td>2020-11-26</td>\n",
       "      <td>79800001</td>\n",
       "      <td>JHB_1</td>\n",
       "      <td>...</td>\n",
       "      <td>Yes</td>\n",
       "      <td>No</td>\n",
       "      <td>No</td>\n",
       "      <td>No</td>\n",
       "      <td>No</td>\n",
       "      <td>No</td>\n",
       "      <td>No</td>\n",
       "      <td>No</td>\n",
       "      <td>No</td>\n",
       "      <td>No</td>\n",
       "    </tr>\n",
       "    <tr>\n",
       "      <th>1</th>\n",
       "      <td>2896</td>\n",
       "      <td>Gauteng</td>\n",
       "      <td>City of Johannesburg Metropolitan Municipality</td>\n",
       "      <td>JHB</td>\n",
       "      <td>1</td>\n",
       "      <td>City of Johannesburg</td>\n",
       "      <td>JHB</td>\n",
       "      <td>2020-11-26</td>\n",
       "      <td>79800001</td>\n",
       "      <td>JHB_1</td>\n",
       "      <td>...</td>\n",
       "      <td>No</td>\n",
       "      <td>No</td>\n",
       "      <td>No</td>\n",
       "      <td>No</td>\n",
       "      <td>No</td>\n",
       "      <td>No</td>\n",
       "      <td>No</td>\n",
       "      <td>No</td>\n",
       "      <td>No</td>\n",
       "      <td>No</td>\n",
       "    </tr>\n",
       "    <tr>\n",
       "      <th>2</th>\n",
       "      <td>2896</td>\n",
       "      <td>Gauteng</td>\n",
       "      <td>City of Johannesburg Metropolitan Municipality</td>\n",
       "      <td>JHB</td>\n",
       "      <td>1</td>\n",
       "      <td>City of Johannesburg</td>\n",
       "      <td>JHB</td>\n",
       "      <td>2020-11-26</td>\n",
       "      <td>79800001</td>\n",
       "      <td>JHB_1</td>\n",
       "      <td>...</td>\n",
       "      <td>No</td>\n",
       "      <td>No</td>\n",
       "      <td>No</td>\n",
       "      <td>No</td>\n",
       "      <td>No</td>\n",
       "      <td>No</td>\n",
       "      <td>Yes</td>\n",
       "      <td>No</td>\n",
       "      <td>No</td>\n",
       "      <td>No</td>\n",
       "    </tr>\n",
       "  </tbody>\n",
       "</table>\n",
       "<p>3 rows × 417 columns</p>\n",
       "</div>"
      ],
      "text/plain": [
       "    FID Province                                      Municipali CAT_B  \\\n",
       "0  2896  Gauteng  City of Johannesburg Metropolitan Municipality   JHB   \n",
       "1  2896  Gauteng  City of Johannesburg Metropolitan Municipality   JHB   \n",
       "2  2896  Gauteng  City of Johannesburg Metropolitan Municipality   JHB   \n",
       "\n",
       "   WardNo              District DistrictCo        Date    WardID WardLabel  \\\n",
       "0       1  City of Johannesburg        JHB  2020-11-26  79800001     JHB_1   \n",
       "1       1  City of Johannesburg        JHB  2020-11-26  79800001     JHB_1   \n",
       "2       1  City of Johannesburg        JHB  2020-11-26  79800001     JHB_1   \n",
       "\n",
       "   ...  Q17_02_5  Q17_02_6 Q17_02_7  Q17_02_8 Q17_02_9 Q17_02_10 Q17_02_11  \\\n",
       "0  ...       Yes        No       No        No       No        No        No   \n",
       "1  ...        No        No       No        No       No        No        No   \n",
       "2  ...        No        No       No        No       No        No       Yes   \n",
       "\n",
       "   Q17_02_12  Q17_02_13 Q17_02_14  \n",
       "0         No         No        No  \n",
       "1         No         No        No  \n",
       "2         No         No        No  \n",
       "\n",
       "[3 rows x 417 columns]"
      ]
     },
     "execution_count": 9,
     "metadata": {},
     "output_type": "execute_result"
    }
   ],
   "source": [
    "wards_mer.head(3)"
   ]
  },
  {
   "cell_type": "markdown",
   "id": "eedaad85-5c68-43e6-b612-32fc15df59f4",
   "metadata": {},
   "source": [
    "Now I try to plot the region from the merged file so that I get a better idea of what the area looks like."
   ]
  },
  {
   "cell_type": "code",
   "execution_count": 10,
   "id": "90eb3198-7ae6-4f74-bb91-5e7d6a052505",
   "metadata": {},
   "outputs": [
    {
     "data": {
      "text/plain": [
       "Text(0.5, 1.0, 'Gauteng Districts')"
      ]
     },
     "execution_count": 10,
     "metadata": {},
     "output_type": "execute_result"
    },
    {
     "data": {
      "image/png": "[encoded data removed]",
      "text/plain": [
       "<Figure size 360x360 with 1 Axes>"
      ]
     },
     "metadata": {
      "needs_background": "light"
     },
     "output_type": "display_data"
    }
   ],
   "source": [
    "wards_mer.plot(figsize=(5,5),\n",
    "                   column='District',\n",
    "           cmap='Set3',\n",
    "                   edgecolor='white',\n",
    "                   linewidth=0.2,\n",
    "                   legend=False,\n",
    "                  )\n",
    "plt.title('Gauteng Districts', fontsize=14)"
   ]
  },
  {
   "cell_type": "markdown",
   "id": "3b6e5bac-3a69-47b6-8274-56efe7507e72",
   "metadata": {},
   "source": [
    "I can see that a whole area of Gauteng is missing, which my partner and I identified as Rand City West. We are unsure why this is happening, but I will continue knowing that we are loosing data in the merge. "
   ]
  },
  {
   "cell_type": "markdown",
   "id": "49b089f8-be4d-4280-a9f5-12f255a46197",
   "metadata": {},
   "source": [
    "I didn't clean the data in excel, so instead I will clean the data through Python. To do so I first need to list all the columns\n",
    "\n"
   ]
  },
  {
   "cell_type": "code",
   "execution_count": null,
   "id": "17be71ba-6cda-4979-be90-a740c5184c9f",
   "metadata": {},
   "outputs": [],
   "source": [
    "list(wards_mer)"
   ]
  },
  {
   "cell_type": "markdown",
   "id": "1bc629b8-5cf2-4108-9383-21d8fc47a89d",
   "metadata": {},
   "source": [
    "After deciding which columns to keep, I use the following command to get rid of the columns I don't need"
   ]
  },
  {
   "cell_type": "code",
   "execution_count": 12,
   "id": "f73ee500-3576-48f7-84f2-90cb33f76f87",
   "metadata": {},
   "outputs": [],
   "source": [
    "\n",
    "columns_to_keep =['FID',\n",
    " 'Province',\n",
    " 'Municipali',\n",
    " 'CAT_B',\n",
    " 'WardNo',\n",
    " 'District',\n",
    " 'DistrictCo',\n",
    " 'Date',\n",
    " 'WardID',\n",
    " 'WardLabel',\n",
    " 'Shape__Are',\n",
    " 'Shape__Len',\n",
    " 'geometry',\n",
    " 'resp_id',\n",
    " 'munic',\n",
    " 'munic_recode',\n",
    " 'region',\n",
    " 'adults_listed',\n",
    " 'males_listed',\n",
    " 'females_listed',\n",
    " 'weight',\n",
    " 'A1_Pop_group',\n",
    " 'A2_Sex',\n",
    " 'Q2_11_street_lights',\n",
    " 'Q3_02_country',\n",
    " 'Q3_10_Retirement',\n",
    " 'Q4_03_community',\n",
    " 'Q8_06_idp',\n",
    " 'Q9_02_infl_dev',\n",
    " 'Q9_07_foreigners',\n",
    " 'Q9_10_BW_trust',\n",
    " 'Q9_12_foreigners',\n",
    " 'Q9_15_Black_opport_more',\n",
    " 'Q9_16_Violenc_LBG',\n",
    " 'Q9_20_Interracial_dating',\n",
    " 'Q12_03_day',\n",
    " 'Q12_04_night', \n",
    " 'Q15_02_age',\n",
    " 'Q15_02_age_recode',\n",
    " 'Q15_20_income']"
   ]
  },
  {
   "cell_type": "markdown",
   "id": "a5e66a99-944f-4335-8933-6e93b84bd7b8",
   "metadata": {},
   "source": [
    "I cut down the list of columns with the following command and then list them"
   ]
  },
  {
   "cell_type": "code",
   "execution_count": 13,
   "id": "4874a13f-3870-4d00-8d1c-d10318e5b6dc",
   "metadata": {},
   "outputs": [],
   "source": [
    "wards_mer = wards_mer[columns_to_keep]"
   ]
  },
  {
   "cell_type": "code",
   "execution_count": 14,
   "id": "dfe8b808-cc0b-43cf-8399-bcf727e3fe06",
   "metadata": {},
   "outputs": [
    {
     "data": {
      "text/plain": [
       "['FID',\n",
       " 'Province',\n",
       " 'Municipali',\n",
       " 'CAT_B',\n",
       " 'WardNo',\n",
       " 'District',\n",
       " 'DistrictCo',\n",
       " 'Date',\n",
       " 'WardID',\n",
       " 'WardLabel',\n",
       " 'Shape__Are',\n",
       " 'Shape__Len',\n",
       " 'geometry',\n",
       " 'resp_id',\n",
       " 'munic',\n",
       " 'munic_recode',\n",
       " 'region',\n",
       " 'adults_listed',\n",
       " 'males_listed',\n",
       " 'females_listed',\n",
       " 'weight',\n",
       " 'A1_Pop_group',\n",
       " 'A2_Sex',\n",
       " 'Q2_11_street_lights',\n",
       " 'Q3_02_country',\n",
       " 'Q3_10_Retirement',\n",
       " 'Q4_03_community',\n",
       " 'Q8_06_idp',\n",
       " 'Q9_02_infl_dev',\n",
       " 'Q9_07_foreigners',\n",
       " 'Q9_10_BW_trust',\n",
       " 'Q9_12_foreigners',\n",
       " 'Q9_15_Black_opport_more',\n",
       " 'Q9_16_Violenc_LBG',\n",
       " 'Q9_20_Interracial_dating',\n",
       " 'Q12_03_day',\n",
       " 'Q12_04_night',\n",
       " 'Q15_02_age',\n",
       " 'Q15_02_age_recode',\n",
       " 'Q15_20_income']"
      ]
     },
     "execution_count": 14,
     "metadata": {},
     "output_type": "execute_result"
    }
   ],
   "source": [
    "list(wards_mer)"
   ]
  },
  {
   "cell_type": "markdown",
   "id": "1dd2688d-1615-4d33-bcd7-7acc3110c2d9",
   "metadata": {},
   "source": [
    "A lot of the variables are shown in a scale from for example strongly agree to strongly disagree. In order to map these, I recode the variables to give them numeric values and then take the mean of each ward. I first do this with the variablae BW trust and use the loc command.\n",
    "\n"
   ]
  },
  {
   "cell_type": "code",
   "execution_count": 15,
   "id": "6d057830-83f8-406b-ad16-a3f24b6f020e",
   "metadata": {},
   "outputs": [
    {
     "name": "stderr",
     "output_type": "stream",
     "text": [
      "/opt/conda/lib/python3.9/site-packages/geopandas/geodataframe.py:1322: SettingWithCopyWarning: \n",
      "A value is trying to be set on a copy of a slice from a DataFrame.\n",
      "Try using .loc[row_indexer,col_indexer] = value instead\n",
      "\n",
      "See the caveats in the documentation: https://pandas.pydata.org/pandas-docs/stable/user_guide/indexing.html#returning-a-view-versus-a-copy\n",
      "  super(GeoDataFrame, self).__setitem__(key, value)\n",
      "/opt/conda/lib/python3.9/site-packages/pandas/core/indexing.py:1817: SettingWithCopyWarning: \n",
      "A value is trying to be set on a copy of a slice from a DataFrame.\n",
      "Try using .loc[row_indexer,col_indexer] = value instead\n",
      "\n",
      "See the caveats in the documentation: https://pandas.pydata.org/pandas-docs/stable/user_guide/indexing.html#returning-a-view-versus-a-copy\n",
      "  self._setitem_single_column(loc, value, pi)\n"
     ]
    },
    {
     "data": {
      "text/html": [
       "<div>\n",
       "<style scoped>\n",
       "    .dataframe tbody tr th:only-of-type {\n",
       "        vertical-align: middle;\n",
       "    }\n",
       "\n",
       "    .dataframe tbody tr th {\n",
       "        vertical-align: top;\n",
       "    }\n",
       "\n",
       "    .dataframe thead th {\n",
       "        text-align: right;\n",
       "    }\n",
       "</style>\n",
       "<table border=\"1\" class=\"dataframe\">\n",
       "  <thead>\n",
       "    <tr style=\"text-align: right;\">\n",
       "      <th></th>\n",
       "      <th>Q9_10_BW_trust</th>\n",
       "      <th>bw_trust_2</th>\n",
       "    </tr>\n",
       "  </thead>\n",
       "  <tbody>\n",
       "    <tr>\n",
       "      <th>0</th>\n",
       "      <td>Strongly agree</td>\n",
       "      <td>4.0</td>\n",
       "    </tr>\n",
       "    <tr>\n",
       "      <th>1</th>\n",
       "      <td>Strongly agree</td>\n",
       "      <td>4.0</td>\n",
       "    </tr>\n",
       "    <tr>\n",
       "      <th>2</th>\n",
       "      <td>Agree</td>\n",
       "      <td>3.0</td>\n",
       "    </tr>\n",
       "    <tr>\n",
       "      <th>3</th>\n",
       "      <td>Strongly agree</td>\n",
       "      <td>4.0</td>\n",
       "    </tr>\n",
       "    <tr>\n",
       "      <th>4</th>\n",
       "      <td>Agree</td>\n",
       "      <td>3.0</td>\n",
       "    </tr>\n",
       "    <tr>\n",
       "      <th>...</th>\n",
       "      <td>...</td>\n",
       "      <td>...</td>\n",
       "    </tr>\n",
       "    <tr>\n",
       "      <th>23601</th>\n",
       "      <td>Disagree</td>\n",
       "      <td>1.0</td>\n",
       "    </tr>\n",
       "    <tr>\n",
       "      <th>23602</th>\n",
       "      <td>Agree</td>\n",
       "      <td>3.0</td>\n",
       "    </tr>\n",
       "    <tr>\n",
       "      <th>23603</th>\n",
       "      <td>Agree</td>\n",
       "      <td>3.0</td>\n",
       "    </tr>\n",
       "    <tr>\n",
       "      <th>23604</th>\n",
       "      <td>Disagree</td>\n",
       "      <td>1.0</td>\n",
       "    </tr>\n",
       "    <tr>\n",
       "      <th>23605</th>\n",
       "      <td>Disagree</td>\n",
       "      <td>1.0</td>\n",
       "    </tr>\n",
       "  </tbody>\n",
       "</table>\n",
       "<p>23606 rows × 2 columns</p>\n",
       "</div>"
      ],
      "text/plain": [
       "       Q9_10_BW_trust  bw_trust_2\n",
       "0      Strongly agree         4.0\n",
       "1      Strongly agree         4.0\n",
       "2               Agree         3.0\n",
       "3      Strongly agree         4.0\n",
       "4               Agree         3.0\n",
       "...               ...         ...\n",
       "23601        Disagree         1.0\n",
       "23602           Agree         3.0\n",
       "23603           Agree         3.0\n",
       "23604        Disagree         1.0\n",
       "23605        Disagree         1.0\n",
       "\n",
       "[23606 rows x 2 columns]"
      ]
     },
     "execution_count": 15,
     "metadata": {},
     "output_type": "execute_result"
    }
   ],
   "source": [
    "wards_mer[['Q9_10_BW_trust']]\n",
    "wards_mer [['bw_trust_2']]=np.nan\n",
    "wards_mer [['bw_trust_2']]\n",
    "\n",
    "wards_mer.loc[wards_mer['Q9_10_BW_trust']=='Strongly disagree','bw_trust_2']=0\n",
    "wards_mer.loc[wards_mer['Q9_10_BW_trust']=='Disagree','bw_trust_2']=1\n",
    "wards_mer.loc[wards_mer['Q9_10_BW_trust']=='Neither agree nor disagree','bw_trust_2']=2\n",
    "wards_mer.loc[wards_mer['Q9_10_BW_trust']=='Agree','bw_trust_2']=3\n",
    "wards_mer.loc[wards_mer['Q9_10_BW_trust']=='Strongly agree','bw_trust_2']=4\n",
    "wards_mer [['Q9_10_BW_trust','bw_trust_2']]"
   ]
  },
  {
   "cell_type": "markdown",
   "id": "f27b44a2-682c-4550-b07d-083cc337805f",
   "metadata": {},
   "source": [
    "create ward level dataset with ward mean bw_trust variable"
   ]
  },
  {
   "cell_type": "code",
   "execution_count": 16,
   "id": "a8c2ddb6-e3ce-425e-aa2a-0caf19756b2f",
   "metadata": {},
   "outputs": [],
   "source": [
    "wards_mer_bw = wards_mer.groupby(\"WardID\").mean('bw_trust_2') [[\"bw_trust_2\"]]"
   ]
  },
  {
   "cell_type": "markdown",
   "id": "7bf80a30-54dc-448c-a04b-4eea8fc342c7",
   "metadata": {},
   "source": [
    "check ward level trust var"
   ]
  },
  {
   "cell_type": "code",
   "execution_count": null,
   "id": "c95af7a9-f4d1-439c-95c9-99ad881764a6",
   "metadata": {},
   "outputs": [],
   "source": [
    "wards_mer_bw.head(3)"
   ]
  },
  {
   "cell_type": "markdown",
   "id": "2826818b-9dd1-454c-9b1a-ee8b35a89611",
   "metadata": {},
   "source": [
    "merge ward level trust var back to ward level shape data (again)"
   ]
  },
  {
   "cell_type": "code",
   "execution_count": 18,
   "id": "9e6b9a17-acbf-49e0-9294-45f0d0b11be0",
   "metadata": {},
   "outputs": [
    {
     "data": {
      "text/html": [
       "<div>\n",
       "<style scoped>\n",
       "    .dataframe tbody tr th:only-of-type {\n",
       "        vertical-align: middle;\n",
       "    }\n",
       "\n",
       "    .dataframe tbody tr th {\n",
       "        vertical-align: top;\n",
       "    }\n",
       "\n",
       "    .dataframe thead th {\n",
       "        text-align: right;\n",
       "    }\n",
       "</style>\n",
       "<table border=\"1\" class=\"dataframe\">\n",
       "  <thead>\n",
       "    <tr style=\"text-align: right;\">\n",
       "      <th></th>\n",
       "      <th>FID</th>\n",
       "      <th>Province</th>\n",
       "      <th>Municipali</th>\n",
       "      <th>CAT_B</th>\n",
       "      <th>WardNo</th>\n",
       "      <th>District</th>\n",
       "      <th>DistrictCo</th>\n",
       "      <th>Date</th>\n",
       "      <th>WardID</th>\n",
       "      <th>WardLabel</th>\n",
       "      <th>...</th>\n",
       "      <th>Q9_15_Black_opport_more</th>\n",
       "      <th>Q9_16_Violenc_LBG</th>\n",
       "      <th>Q9_20_Interracial_dating</th>\n",
       "      <th>Q12_03_day</th>\n",
       "      <th>Q12_04_night</th>\n",
       "      <th>Q15_02_age</th>\n",
       "      <th>Q15_02_age_recode</th>\n",
       "      <th>Q15_20_income</th>\n",
       "      <th>bw_trust_2_x</th>\n",
       "      <th>bw_trust_2_y</th>\n",
       "    </tr>\n",
       "  </thead>\n",
       "  <tbody>\n",
       "    <tr>\n",
       "      <th>0</th>\n",
       "      <td>2896</td>\n",
       "      <td>Gauteng</td>\n",
       "      <td>City of Johannesburg Metropolitan Municipality</td>\n",
       "      <td>JHB</td>\n",
       "      <td>1</td>\n",
       "      <td>City of Johannesburg</td>\n",
       "      <td>JHB</td>\n",
       "      <td>2020-11-26</td>\n",
       "      <td>79800001</td>\n",
       "      <td>JHB_1</td>\n",
       "      <td>...</td>\n",
       "      <td>Strongly disagree</td>\n",
       "      <td>Strongly disagree</td>\n",
       "      <td>Agree</td>\n",
       "      <td>Bit unsafe</td>\n",
       "      <td>Very unsafe</td>\n",
       "      <td>35</td>\n",
       "      <td>35-39</td>\n",
       "      <td>R1 601 - R3 200</td>\n",
       "      <td>4.0</td>\n",
       "      <td>3.018182</td>\n",
       "    </tr>\n",
       "    <tr>\n",
       "      <th>1</th>\n",
       "      <td>2896</td>\n",
       "      <td>Gauteng</td>\n",
       "      <td>City of Johannesburg Metropolitan Municipality</td>\n",
       "      <td>JHB</td>\n",
       "      <td>1</td>\n",
       "      <td>City of Johannesburg</td>\n",
       "      <td>JHB</td>\n",
       "      <td>2020-11-26</td>\n",
       "      <td>79800001</td>\n",
       "      <td>JHB_1</td>\n",
       "      <td>...</td>\n",
       "      <td>Strongly disagree</td>\n",
       "      <td>Strongly disagree</td>\n",
       "      <td>Agree</td>\n",
       "      <td>Very unsafe</td>\n",
       "      <td>Very unsafe</td>\n",
       "      <td>28</td>\n",
       "      <td>25-29</td>\n",
       "      <td>R6 401 - R12 800</td>\n",
       "      <td>4.0</td>\n",
       "      <td>3.018182</td>\n",
       "    </tr>\n",
       "    <tr>\n",
       "      <th>2</th>\n",
       "      <td>2896</td>\n",
       "      <td>Gauteng</td>\n",
       "      <td>City of Johannesburg Metropolitan Municipality</td>\n",
       "      <td>JHB</td>\n",
       "      <td>1</td>\n",
       "      <td>City of Johannesburg</td>\n",
       "      <td>JHB</td>\n",
       "      <td>2020-11-26</td>\n",
       "      <td>79800001</td>\n",
       "      <td>JHB_1</td>\n",
       "      <td>...</td>\n",
       "      <td>Neither agree nor disagree</td>\n",
       "      <td>Disagree</td>\n",
       "      <td>Neither agree nor disagree</td>\n",
       "      <td>Fairly safe</td>\n",
       "      <td>Bit unsafe</td>\n",
       "      <td>62</td>\n",
       "      <td>60-64</td>\n",
       "      <td>R1 601 - R3 200</td>\n",
       "      <td>3.0</td>\n",
       "      <td>3.018182</td>\n",
       "    </tr>\n",
       "  </tbody>\n",
       "</table>\n",
       "<p>3 rows × 42 columns</p>\n",
       "</div>"
      ],
      "text/plain": [
       "    FID Province                                      Municipali CAT_B  \\\n",
       "0  2896  Gauteng  City of Johannesburg Metropolitan Municipality   JHB   \n",
       "1  2896  Gauteng  City of Johannesburg Metropolitan Municipality   JHB   \n",
       "2  2896  Gauteng  City of Johannesburg Metropolitan Municipality   JHB   \n",
       "\n",
       "   WardNo              District DistrictCo        Date    WardID WardLabel  \\\n",
       "0       1  City of Johannesburg        JHB  2020-11-26  79800001     JHB_1   \n",
       "1       1  City of Johannesburg        JHB  2020-11-26  79800001     JHB_1   \n",
       "2       1  City of Johannesburg        JHB  2020-11-26  79800001     JHB_1   \n",
       "\n",
       "   ...     Q9_15_Black_opport_more  Q9_16_Violenc_LBG  \\\n",
       "0  ...           Strongly disagree  Strongly disagree   \n",
       "1  ...           Strongly disagree  Strongly disagree   \n",
       "2  ...  Neither agree nor disagree           Disagree   \n",
       "\n",
       "     Q9_20_Interracial_dating   Q12_03_day Q12_04_night Q15_02_age  \\\n",
       "0                       Agree   Bit unsafe  Very unsafe         35   \n",
       "1                       Agree  Very unsafe  Very unsafe         28   \n",
       "2  Neither agree nor disagree  Fairly safe   Bit unsafe         62   \n",
       "\n",
       "  Q15_02_age_recode     Q15_20_income  bw_trust_2_x  bw_trust_2_y  \n",
       "0             35-39   R1 601 - R3 200           4.0      3.018182  \n",
       "1             25-29  R6 401 - R12 800           4.0      3.018182  \n",
       "2             60-64   R1 601 - R3 200           3.0      3.018182  \n",
       "\n",
       "[3 rows x 42 columns]"
      ]
     },
     "execution_count": 18,
     "metadata": {},
     "output_type": "execute_result"
    }
   ],
   "source": [
    "\n",
    "wards_mer_2 = wards_mer.merge(wards_mer_bw, on='WardID')\n",
    "\n",
    "wards_mer_2.head(3)"
   ]
  },
  {
   "cell_type": "markdown",
   "id": "079e0b3e-894b-44d5-ab96-92e8207da8d3",
   "metadata": {},
   "source": [
    "I try to plot the data to show the attitudes towards other populations in the Gauteng region. I have analysed the results below."
   ]
  },
  {
   "cell_type": "code",
   "execution_count": 24,
   "id": "2f5dc447-8f80-4624-b827-c290c756d0af",
   "metadata": {},
   "outputs": [
    {
     "data": {
      "text/plain": [
       "Text(0.5, 1.0, 'Attitudes towards other population groups in Gauteng')"
      ]
     },
     "execution_count": 24,
     "metadata": {},
     "output_type": "execute_result"
    },
    {
     "data": {
      "image/png": "[encoded data removed]",
      "text/plain": [
       "<Figure size 864x720 with 1 Axes>"
      ]
     },
     "metadata": {
      "needs_background": "light"
     },
     "output_type": "display_data"
    }
   ],
   "source": [
    "\n",
    "\n",
    "wards_mer_2.plot(figsize=(12,10),\n",
    "                 column='bw_trust_2_y',\n",
    "                 legend=True, \n",
    "                 scheme='NaturalBreaks')\n",
    "\n",
    "plt.title('Attitudes towards other population groups in Gauteng', fontsize=14)"
   ]
  },
  {
   "cell_type": "markdown",
   "id": "05aa9df5-cc97-48ac-b315-723ec7979e4e",
   "metadata": {
    "tags": []
   },
   "source": [
    "What we can see in this map is that those areas that are shaded darker, are areas where more people strongly disagreed with the statement that \"Black and Whites will never really trust each other\". The yellow shaded areas, are wards where respondents strongly agreed with the aforementioned statement. We can conclude that there is a lot of variation in trust across the Gauteng area."
   ]
  },
  {
   "cell_type": "markdown",
   "id": "4cbe8e90-8b69-458f-baac-f8e35000ecc3",
   "metadata": {},
   "source": [
    "As my Kernel keeps on dying, I will try to delete dataframes that I don't need any more to save some memory. "
   ]
  },
  {
   "cell_type": "code",
   "execution_count": null,
   "id": "a919b677-6296-4c03-bb3e-120d1b9f9f12",
   "metadata": {},
   "outputs": [],
   "source": [
    "del qol17"
   ]
  },
  {
   "cell_type": "code",
   "execution_count": 22,
   "id": "bd162092-0571-421b-a129-333102ff989b",
   "metadata": {},
   "outputs": [],
   "source": [
    "del wards_shp\n"
   ]
  },
  {
   "cell_type": "markdown",
   "id": "9e01758e-ebbd-4a15-aa05-0d301c16c54b",
   "metadata": {},
   "source": [
    "After running these two delete commands, it seems that little memory has been saved and the memory is still almost full. Perhaps the commands I am running are using a lot of memory?  "
   ]
  },
  {
   "cell_type": "markdown",
   "id": "93c31981-e59b-47ba-8fea-c7aa3415663e",
   "metadata": {},
   "source": [
    "## As I am not sure what to do about the kernel dying, I have decided to start a new notebook for the next set of data exploration"
   ]
  },
  {
   "cell_type": "code",
   "execution_count": null,
   "id": "a142aa1a-4298-4127-a895-d3f1a10ed989",
   "metadata": {},
   "outputs": [],
   "source": []
  },
  {
   "cell_type": "code",
   "execution_count": null,
   "id": "82ff744d-9c13-4fc9-a6a1-cf59f0a4d603",
   "metadata": {},
   "outputs": [],
   "source": []
  }
 ],
 "metadata": {
  "kernelspec": {
   "display_name": "Python 3 (ipykernel)",
   "language": "python",
   "name": "python3"
  },
  "language_info": {
   "codemirror_mode": {
    "name": "ipython",
    "version": 3
   },
   "file_extension": ".py",
   "mimetype": "text/x-python",
   "name": "python",
   "nbconvert_exporter": "python",
   "pygments_lexer": "ipython3",
   "version": "3.9.6"
  }
 },
 "nbformat": 4,
 "nbformat_minor": 5
}
